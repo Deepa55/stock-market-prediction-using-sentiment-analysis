{
 "cells": [
  {
   "cell_type": "code",
   "execution_count": 265,
   "metadata": {
    "ExecuteTime": {
     "end_time": "2018-06-18T19:39:43.418737Z",
     "start_time": "2018-06-18T19:39:43.412747Z"
    },
    "colab": {
     "autoexec": {
      "startup": false,
      "wait_interval": 0
     }
    },
    "colab_type": "code",
    "id": "0saUD38Ey80e"
   },
   "outputs": [],
   "source": [
    "import pandas as pd\n",
    "from sklearn.cross_validation import train_test_split\n",
    "from sklearn.metrics import r2_score"
   ]
  },
  {
   "cell_type": "code",
   "execution_count": 266,
   "metadata": {
    "ExecuteTime": {
     "end_time": "2018-06-18T19:39:43.730783Z",
     "start_time": "2018-06-18T19:39:43.726782Z"
    },
    "colab": {
     "autoexec": {
      "startup": false,
      "wait_interval": 0
     },
     "base_uri": "https://localhost:8080/",
     "height": 89,
     "resources": {
      "http://localhost:8080/nbextensions/google.colab/files.js": {
       "data": "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",
       "headers": [
        [
         "content-type",
         "application/javascript"
        ]
       ],
       "ok": true,
       "status": 200,
       "status_text": ""
      }
     }
    },
    "colab_type": "code",
    "executionInfo": {
     "elapsed": 7551,
     "status": "ok",
     "timestamp": 1529347505221,
     "user": {
      "displayName": "Younus",
      "photoUrl": "https://lh3.googleusercontent.com/a/default-user=s128",
      "userId": "103533215213369685105"
     },
     "user_tz": -300
    },
    "id": "YWFYf5JZzBNT",
    "outputId": "f4e05cf4-39ca-420a-d7aa-31126a5281d2"
   },
   "outputs": [],
   "source": [
    "# from google.colab import files\n",
    "\n",
    "# uploaded = files.upload()\n",
    "\n",
    "# for fn in uploaded.keys():\n",
    "#   print('User uploaded file \"{name}\" with length {length} bytes'.format(\n",
    "#       name=fn, length=len(uploaded[fn])))"
   ]
  },
  {
   "cell_type": "code",
   "execution_count": 292,
   "metadata": {
    "ExecuteTime": {
     "end_time": "2018-06-19T03:53:12.842987Z",
     "start_time": "2018-06-19T03:53:12.490201Z"
    },
    "colab": {
     "autoexec": {
      "startup": false,
      "wait_interval": 0
     }
    },
    "colab_type": "code",
    "id": "ZG8ClN5Zy80o"
   },
   "outputs": [],
   "source": [
    "df=pd.read_csv('final_data.csv')"
   ]
  },
  {
   "cell_type": "code",
   "execution_count": 293,
   "metadata": {
    "ExecuteTime": {
     "end_time": "2018-06-19T03:53:13.042982Z",
     "start_time": "2018-06-19T03:53:13.015983Z"
    },
    "colab": {
     "autoexec": {
      "startup": false,
      "wait_interval": 0
     },
     "base_uri": "https://localhost:8080/",
     "height": 204
    },
    "colab_type": "code",
    "executionInfo": {
     "elapsed": 881,
     "status": "ok",
     "timestamp": 1529347507390,
     "user": {
      "displayName": "Younus",
      "photoUrl": "https://lh3.googleusercontent.com/a/default-user=s128",
      "userId": "103533215213369685105"
     },
     "user_tz": -300
    },
    "id": "MMg_CkLdy80t",
    "outputId": "08432580-d9bf-439d-d1d7-2d49bc7a976e"
   },
   "outputs": [
    {
     "data": {
      "text/html": [
       "<div>\n",
       "<style scoped>\n",
       "    .dataframe tbody tr th:only-of-type {\n",
       "        vertical-align: middle;\n",
       "    }\n",
       "\n",
       "    .dataframe tbody tr th {\n",
       "        vertical-align: top;\n",
       "    }\n",
       "\n",
       "    .dataframe thead th {\n",
       "        text-align: right;\n",
       "    }\n",
       "</style>\n",
       "<table border=\"1\" class=\"dataframe\">\n",
       "  <thead>\n",
       "    <tr style=\"text-align: right;\">\n",
       "      <th></th>\n",
       "      <th>Date</th>\n",
       "      <th>compound</th>\n",
       "      <th>neg</th>\n",
       "      <th>neu</th>\n",
       "      <th>pos</th>\n",
       "      <th>Close</th>\n",
       "    </tr>\n",
       "  </thead>\n",
       "  <tbody>\n",
       "    <tr>\n",
       "      <th>0</th>\n",
       "      <td>3-Jan-11</td>\n",
       "      <td>-0.8934</td>\n",
       "      <td>0.172</td>\n",
       "      <td>0.746</td>\n",
       "      <td>0.082</td>\n",
       "      <td>119.49</td>\n",
       "    </tr>\n",
       "    <tr>\n",
       "      <th>1</th>\n",
       "      <td>4-Jan-11</td>\n",
       "      <td>-0.6996</td>\n",
       "      <td>0.133</td>\n",
       "      <td>0.806</td>\n",
       "      <td>0.060</td>\n",
       "      <td>121.87</td>\n",
       "    </tr>\n",
       "    <tr>\n",
       "      <th>2</th>\n",
       "      <td>5-Jan-11</td>\n",
       "      <td>-0.9442</td>\n",
       "      <td>0.319</td>\n",
       "      <td>0.638</td>\n",
       "      <td>0.044</td>\n",
       "      <td>124.93</td>\n",
       "    </tr>\n",
       "    <tr>\n",
       "      <th>3</th>\n",
       "      <td>6-Jan-11</td>\n",
       "      <td>-0.7906</td>\n",
       "      <td>0.179</td>\n",
       "      <td>0.726</td>\n",
       "      <td>0.094</td>\n",
       "      <td>124.98</td>\n",
       "    </tr>\n",
       "    <tr>\n",
       "      <th>4</th>\n",
       "      <td>7-Jan-11</td>\n",
       "      <td>-0.5859</td>\n",
       "      <td>0.140</td>\n",
       "      <td>0.766</td>\n",
       "      <td>0.094</td>\n",
       "      <td>124.99</td>\n",
       "    </tr>\n",
       "  </tbody>\n",
       "</table>\n",
       "</div>"
      ],
      "text/plain": [
       "       Date  compound    neg    neu    pos   Close\n",
       "0  3-Jan-11   -0.8934  0.172  0.746  0.082  119.49\n",
       "1  4-Jan-11   -0.6996  0.133  0.806  0.060  121.87\n",
       "2  5-Jan-11   -0.9442  0.319  0.638  0.044  124.93\n",
       "3  6-Jan-11   -0.7906  0.179  0.726  0.094  124.98\n",
       "4  7-Jan-11   -0.5859  0.140  0.766  0.094  124.99"
      ]
     },
     "execution_count": 293,
     "metadata": {},
     "output_type": "execute_result"
    }
   ],
   "source": [
    "df.head()"
   ]
  },
  {
   "cell_type": "code",
   "execution_count": 294,
   "metadata": {
    "ExecuteTime": {
     "end_time": "2018-06-19T03:53:15.120600Z",
     "start_time": "2018-06-19T03:53:14.840430Z"
    },
    "colab": {
     "autoexec": {
      "startup": false,
      "wait_interval": 0
     }
    },
    "colab_type": "code",
    "id": "6xaxiQaRy803"
   },
   "outputs": [],
   "source": [
    "X=df[['compound','neg','neu','pos']]\n",
    "# X=df[['neg','neu','pos']]\n",
    "# Y=df[['Close']]/400     #normalize it\n",
    "Y=df[['Close']]"
   ]
  },
  {
   "cell_type": "code",
   "execution_count": 295,
   "metadata": {
    "ExecuteTime": {
     "end_time": "2018-06-19T03:53:16.171352Z",
     "start_time": "2018-06-19T03:53:16.161350Z"
    },
    "colab": {
     "autoexec": {
      "startup": false,
      "wait_interval": 0
     }
    },
    "colab_type": "code",
    "id": "NorZdUJXy809"
   },
   "outputs": [],
   "source": [
    "X_train,X_test,Y_train,Y_test=train_test_split(X,Y,test_size=0.2)"
   ]
  },
  {
   "cell_type": "code",
   "execution_count": 297,
   "metadata": {
    "ExecuteTime": {
     "end_time": "2018-06-19T03:53:24.493377Z",
     "start_time": "2018-06-19T03:53:24.482374Z"
    },
    "colab": {
     "autoexec": {
      "startup": false,
      "wait_interval": 0
     }
    },
    "colab_type": "code",
    "id": "b7e7vXf4y81D"
   },
   "outputs": [],
   "source": [
    "from sklearn import preprocessing\n",
    "min_max_scalar=preprocessing.MinMaxScaler()\n",
    "X_train=min_max_scalar.fit_transform(X_train)\n",
    "X_test=min_max_scalar.fit_transform(X_test)\n",
    "Y_train=min_max_scalar.fit_transform(Y_train)\n",
    "Y_test=min_max_scalar.fit_transform(Y_test)"
   ]
  },
  {
   "cell_type": "code",
   "execution_count": 299,
   "metadata": {
    "ExecuteTime": {
     "end_time": "2018-06-19T03:53:39.262317Z",
     "start_time": "2018-06-19T03:53:39.257322Z"
    }
   },
   "outputs": [],
   "source": [
    "#denormalize the data\n",
    "# ttt=min_max_scalar.inverse_transform(Y_test)"
   ]
  },
  {
   "cell_type": "code",
   "execution_count": 272,
   "metadata": {
    "ExecuteTime": {
     "end_time": "2018-06-18T19:39:47.753958Z",
     "start_time": "2018-06-18T19:39:47.749958Z"
    },
    "colab": {
     "autoexec": {
      "startup": false,
      "wait_interval": 0
     }
    },
    "colab_type": "code",
    "id": "QMrHE10by81K"
   },
   "outputs": [],
   "source": [
    "# from sklearn.preprocessing import StandardScaler\n",
    "# scalar=StandardScaler()\n",
    "# scalar.fit(X_train)\n",
    "# X_train=scalar.transform(X_train)\n",
    "# X_test=scalar.transform(X_test)"
   ]
  },
  {
   "cell_type": "code",
   "execution_count": 273,
   "metadata": {
    "ExecuteTime": {
     "end_time": "2018-06-18T19:39:48.116948Z",
     "start_time": "2018-06-18T19:39:48.109953Z"
    },
    "colab": {
     "autoexec": {
      "startup": false,
      "wait_interval": 0
     }
    },
    "colab_type": "code",
    "id": "2lJ43sf_y81P"
   },
   "outputs": [],
   "source": [
    "from keras.models import Sequential\n",
    "from keras.layers import Dense\n",
    "from keras import losses\n",
    "from keras import activations"
   ]
  },
  {
   "cell_type": "code",
   "execution_count": 274,
   "metadata": {
    "ExecuteTime": {
     "end_time": "2018-06-18T19:39:48.591011Z",
     "start_time": "2018-06-18T19:39:48.584015Z"
    },
    "colab": {
     "autoexec": {
      "startup": false,
      "wait_interval": 0
     }
    },
    "colab_type": "code",
    "id": "7PKMzkJ_y81T"
   },
   "outputs": [],
   "source": [
    "model=Sequential()"
   ]
  },
  {
   "cell_type": "code",
   "execution_count": 275,
   "metadata": {
    "ExecuteTime": {
     "end_time": "2018-06-18T19:39:49.155003Z",
     "start_time": "2018-06-18T19:39:49.058007Z"
    },
    "colab": {
     "autoexec": {
      "startup": false,
      "wait_interval": 0
     }
    },
    "colab_type": "code",
    "id": "IyfyusTyy81a"
   },
   "outputs": [],
   "source": [
    "model.add(Dense(4,activation=activations.sigmoid,input_shape=(4,)))\n",
    "# model.add(Dense(3,activation='relu',input_shape=(3,)))\n",
    "model.add(Dense(3,activation=activations.sigmoid))\n",
    "model.add(Dense(2,activation=activations.sigmoid))\n",
    "# model.add(Dense(100,activation=activations.sigmoid))\n",
    "# model.add(Dense(100,activation=activations.sigmoid))\n",
    "# model.add(Dense(100,activation=activations.sigmoid))\n",
    "# model.add(Dense(100,activation=activations.sigmoid))\n",
    "model.add(Dense(1,activation=activations.sigmoid))"
   ]
  },
  {
   "cell_type": "code",
   "execution_count": 276,
   "metadata": {
    "ExecuteTime": {
     "end_time": "2018-06-18T19:39:51.163457Z",
     "start_time": "2018-06-18T19:39:51.116461Z"
    },
    "colab": {
     "autoexec": {
      "startup": false,
      "wait_interval": 0
     }
    },
    "colab_type": "code",
    "id": "qLhOFA5-y81i"
   },
   "outputs": [],
   "source": [
    "model.compile(optimizer='adam',loss=losses.mean_absolute_error)"
   ]
  },
  {
   "cell_type": "code",
   "execution_count": 277,
   "metadata": {
    "ExecuteTime": {
     "end_time": "2018-06-18T19:39:52.090643Z",
     "start_time": "2018-06-18T19:39:52.084647Z"
    },
    "colab": {
     "autoexec": {
      "startup": false,
      "wait_interval": 0
     }
    },
    "colab_type": "code",
    "id": "mrFCn8t6y81o"
   },
   "outputs": [],
   "source": [
    "# while 1:\n",
    "#     model.fit(X_train,Y_train,epochs=500)\n",
    "#     y_pred=model.predict(X_test)\n",
    "#     falto=r2_score(Y_test,y_pred)\n",
    "#     print(falto)\n",
    "#     if falto >= 70.0:\n",
    "#         break"
   ]
  },
  {
   "cell_type": "code",
   "execution_count": 279,
   "metadata": {
    "ExecuteTime": {
     "end_time": "2018-06-19T03:13:45.937388Z",
     "start_time": "2018-06-19T03:04:19.054774Z"
    },
    "colab": {
     "autoexec": {
      "startup": false,
      "wait_interval": 0
     },
     "base_uri": "https://localhost:8080/",
     "height": 68
    },
    "colab_type": "code",
    "executionInfo": {
     "elapsed": 1731,
     "status": "ok",
     "timestamp": 1529347519042,
     "user": {
      "displayName": "Younus",
      "photoUrl": "https://lh3.googleusercontent.com/a/default-user=s128",
      "userId": "103533215213369685105"
     },
     "user_tz": -300
    },
    "id": "nmTqjrsMy81x",
    "outputId": "65194be8-aaf4-4ad1-9526-cf16f5ca46ba"
   },
   "outputs": [
    {
     "name": "stdout",
     "output_type": "stream",
     "text": [
      "Epoch 584/1000000\n",
      " - 0s - loss: 0.1751\n",
      "Epoch 585/1000000\n",
      " - 0s - loss: 0.1750\n",
      "Epoch 586/1000000\n",
      " - 0s - loss: 0.1752\n",
      "Epoch 587/1000000\n",
      " - 0s - loss: 0.1752\n",
      "Epoch 588/1000000\n",
      " - 0s - loss: 0.1751\n",
      "Epoch 589/1000000\n",
      " - 0s - loss: 0.1750\n",
      "Epoch 590/1000000\n",
      " - 0s - loss: 0.1751\n",
      "Epoch 591/1000000\n",
      " - 0s - loss: 0.1751\n",
      "Epoch 592/1000000\n",
      " - 0s - loss: 0.1751\n",
      "Epoch 593/1000000\n",
      " - 0s - loss: 0.1752\n",
      "Epoch 594/1000000\n",
      " - 0s - loss: 0.1752\n",
      "Epoch 595/1000000\n",
      " - 0s - loss: 0.1750\n",
      "Epoch 596/1000000\n",
      " - 0s - loss: 0.1753\n",
      "Epoch 597/1000000\n",
      " - 0s - loss: 0.1752\n",
      "Epoch 598/1000000\n",
      " - 0s - loss: 0.1750\n",
      "Epoch 599/1000000\n",
      " - 0s - loss: 0.1751\n",
      "Epoch 600/1000000\n",
      " - 0s - loss: 0.1751\n",
      "Epoch 601/1000000\n",
      " - 0s - loss: 0.1750\n",
      "Epoch 602/1000000\n",
      " - 0s - loss: 0.1750\n",
      "Epoch 603/1000000\n",
      " - 0s - loss: 0.1750\n",
      "Epoch 604/1000000\n",
      " - 0s - loss: 0.1752\n",
      "Epoch 605/1000000\n",
      " - 0s - loss: 0.1750\n",
      "Epoch 606/1000000\n",
      " - 0s - loss: 0.1750\n",
      "Epoch 607/1000000\n",
      " - 0s - loss: 0.1749\n",
      "Epoch 608/1000000\n",
      " - 0s - loss: 0.1751\n",
      "Epoch 609/1000000\n",
      " - 0s - loss: 0.1751\n",
      "Epoch 610/1000000\n",
      " - 0s - loss: 0.1749\n",
      "Epoch 611/1000000\n",
      " - 0s - loss: 0.1750\n",
      "Epoch 612/1000000\n",
      " - 0s - loss: 0.1749\n",
      "Epoch 613/1000000\n",
      " - 0s - loss: 0.1751\n",
      "Epoch 614/1000000\n",
      " - 0s - loss: 0.1750\n",
      "Epoch 615/1000000\n",
      " - 0s - loss: 0.1749\n",
      "Epoch 616/1000000\n",
      " - 0s - loss: 0.1750\n",
      "Epoch 617/1000000\n",
      " - 0s - loss: 0.1749\n",
      "Epoch 618/1000000\n",
      " - 0s - loss: 0.1749\n",
      "Epoch 619/1000000\n",
      " - 0s - loss: 0.1749\n",
      "Epoch 620/1000000\n",
      " - 0s - loss: 0.1750\n",
      "Epoch 621/1000000\n",
      " - 0s - loss: 0.1751\n",
      "Epoch 622/1000000\n",
      " - 0s - loss: 0.1749\n",
      "Epoch 623/1000000\n",
      " - 0s - loss: 0.1750\n",
      "Epoch 624/1000000\n",
      " - 0s - loss: 0.1750\n",
      "Epoch 625/1000000\n",
      " - 0s - loss: 0.1750\n",
      "Epoch 626/1000000\n",
      " - 0s - loss: 0.1750\n",
      "Epoch 627/1000000\n",
      " - 0s - loss: 0.1749\n",
      "Epoch 628/1000000\n",
      " - 0s - loss: 0.1749\n",
      "Epoch 629/1000000\n",
      " - 0s - loss: 0.1748\n",
      "Epoch 630/1000000\n",
      " - 0s - loss: 0.1748\n",
      "Epoch 631/1000000\n",
      " - 0s - loss: 0.1749\n",
      "Epoch 632/1000000\n",
      " - 0s - loss: 0.1748\n",
      "Epoch 633/1000000\n",
      " - 0s - loss: 0.1749\n",
      "Epoch 634/1000000\n",
      " - 0s - loss: 0.1748\n",
      "Epoch 635/1000000\n",
      " - 0s - loss: 0.1750\n",
      "Epoch 636/1000000\n",
      " - 0s - loss: 0.1748\n",
      "Epoch 637/1000000\n",
      " - 0s - loss: 0.1749\n",
      "Epoch 638/1000000\n",
      " - 0s - loss: 0.1748\n",
      "Epoch 639/1000000\n",
      " - 0s - loss: 0.1749\n",
      "Epoch 640/1000000\n",
      " - 0s - loss: 0.1748\n",
      "Epoch 641/1000000\n",
      " - 0s - loss: 0.1748\n",
      "Epoch 642/1000000\n",
      " - 0s - loss: 0.1748\n",
      "Epoch 643/1000000\n",
      " - 0s - loss: 0.1749\n",
      "Epoch 644/1000000\n",
      " - 0s - loss: 0.1748\n",
      "Epoch 645/1000000\n",
      " - 0s - loss: 0.1749\n",
      "Epoch 646/1000000\n",
      " - 0s - loss: 0.1748\n",
      "Epoch 647/1000000\n",
      " - 0s - loss: 0.1751\n",
      "Epoch 648/1000000\n",
      " - 0s - loss: 0.1749\n",
      "Epoch 649/1000000\n",
      " - 0s - loss: 0.1747\n",
      "Epoch 650/1000000\n",
      " - 0s - loss: 0.1748\n",
      "Epoch 651/1000000\n",
      " - 0s - loss: 0.1748\n",
      "Epoch 652/1000000\n",
      " - 0s - loss: 0.1748\n",
      "Epoch 653/1000000\n",
      " - 0s - loss: 0.1749\n",
      "Epoch 654/1000000\n",
      " - 0s - loss: 0.1748\n",
      "Epoch 655/1000000\n",
      " - 0s - loss: 0.1747\n",
      "Epoch 656/1000000\n",
      " - 0s - loss: 0.1748\n",
      "Epoch 657/1000000\n",
      " - 0s - loss: 0.1747\n",
      "Epoch 658/1000000\n",
      " - 0s - loss: 0.1748\n",
      "Epoch 659/1000000\n",
      " - 0s - loss: 0.1749\n",
      "Epoch 660/1000000\n",
      " - 0s - loss: 0.1747\n",
      "Epoch 661/1000000\n",
      " - 0s - loss: 0.1747\n",
      "Epoch 662/1000000\n",
      " - 0s - loss: 0.1747\n",
      "Epoch 663/1000000\n",
      " - 0s - loss: 0.1747\n",
      "Epoch 664/1000000\n",
      " - 0s - loss: 0.1751\n",
      "Epoch 665/1000000\n",
      " - 0s - loss: 0.1748\n",
      "Epoch 666/1000000\n",
      " - 0s - loss: 0.1747\n",
      "Epoch 667/1000000\n",
      " - 0s - loss: 0.1748\n",
      "Epoch 668/1000000\n",
      " - 0s - loss: 0.1747\n",
      "Epoch 669/1000000\n",
      " - 0s - loss: 0.1747\n",
      "Epoch 670/1000000\n",
      " - 0s - loss: 0.1747\n",
      "Epoch 671/1000000\n",
      " - 0s - loss: 0.1747\n",
      "Epoch 672/1000000\n",
      " - 0s - loss: 0.1746\n",
      "Epoch 673/1000000\n",
      " - 0s - loss: 0.1747\n",
      "Epoch 674/1000000\n",
      " - 0s - loss: 0.1748\n",
      "Epoch 675/1000000\n",
      " - 0s - loss: 0.1747\n",
      "Epoch 676/1000000\n",
      " - 0s - loss: 0.1746\n",
      "Epoch 677/1000000\n",
      " - 0s - loss: 0.1749\n",
      "Epoch 678/1000000\n",
      " - 0s - loss: 0.1748\n",
      "Epoch 679/1000000\n",
      " - 0s - loss: 0.1746\n",
      "Epoch 680/1000000\n",
      " - 0s - loss: 0.1747\n",
      "Epoch 681/1000000\n",
      " - 0s - loss: 0.1747\n",
      "Epoch 682/1000000\n",
      " - 0s - loss: 0.1747\n",
      "Epoch 683/1000000\n",
      " - 0s - loss: 0.1749\n",
      "Epoch 684/1000000\n",
      " - 0s - loss: 0.1746\n",
      "Epoch 685/1000000\n",
      " - 0s - loss: 0.1746\n",
      "Epoch 686/1000000\n",
      " - 0s - loss: 0.1746\n",
      "Epoch 687/1000000\n",
      " - 0s - loss: 0.1746\n",
      "Epoch 688/1000000\n",
      " - 0s - loss: 0.1746\n",
      "Epoch 689/1000000\n",
      " - 0s - loss: 0.1746\n",
      "Epoch 690/1000000\n",
      " - 0s - loss: 0.1746\n",
      "Epoch 691/1000000\n",
      " - 0s - loss: 0.1745\n",
      "Epoch 692/1000000\n",
      " - 0s - loss: 0.1748\n",
      "Epoch 693/1000000\n",
      " - 0s - loss: 0.1746\n",
      "Epoch 694/1000000\n",
      " - 0s - loss: 0.1747\n",
      "Epoch 695/1000000\n",
      " - 0s - loss: 0.1746\n",
      "Epoch 696/1000000\n",
      " - 0s - loss: 0.1745\n",
      "Epoch 697/1000000\n",
      " - 0s - loss: 0.1746\n",
      "Epoch 698/1000000\n",
      " - 0s - loss: 0.1747\n",
      "Epoch 699/1000000\n",
      " - 0s - loss: 0.1746\n",
      "Epoch 700/1000000\n",
      " - 0s - loss: 0.1745\n",
      "Epoch 701/1000000\n",
      " - 0s - loss: 0.1746\n",
      "Epoch 702/1000000\n",
      " - 0s - loss: 0.1747\n",
      "Epoch 703/1000000\n",
      " - 0s - loss: 0.1745\n",
      "Epoch 704/1000000\n",
      " - 0s - loss: 0.1745\n",
      "Epoch 705/1000000\n",
      " - 0s - loss: 0.1748\n",
      "Epoch 706/1000000\n",
      " - 0s - loss: 0.1745\n",
      "Epoch 707/1000000\n",
      " - 0s - loss: 0.1747\n",
      "Epoch 708/1000000\n",
      " - 0s - loss: 0.1745\n",
      "Epoch 709/1000000\n",
      " - 0s - loss: 0.1745\n",
      "Epoch 710/1000000\n",
      " - 0s - loss: 0.1745\n",
      "Epoch 711/1000000\n",
      " - 0s - loss: 0.1745\n",
      "Epoch 712/1000000\n",
      " - 0s - loss: 0.1745\n",
      "Epoch 713/1000000\n",
      " - 0s - loss: 0.1745\n",
      "Epoch 714/1000000\n",
      " - 0s - loss: 0.1745\n",
      "Epoch 715/1000000\n",
      " - 0s - loss: 0.1745\n",
      "Epoch 716/1000000\n",
      " - 0s - loss: 0.1745\n",
      "Epoch 717/1000000\n",
      " - 0s - loss: 0.1744\n",
      "Epoch 718/1000000\n",
      " - 0s - loss: 0.1746\n",
      "Epoch 719/1000000\n",
      " - 149s - loss: 0.1744\n",
      "Epoch 720/1000000\n",
      " - 0s - loss: 0.1747\n",
      "Epoch 721/1000000\n",
      " - 0s - loss: 0.1744\n",
      "Epoch 722/1000000\n",
      " - 0s - loss: 0.1745\n",
      "Epoch 723/1000000\n",
      " - 0s - loss: 0.1744\n",
      "Epoch 724/1000000\n",
      " - 0s - loss: 0.1746\n",
      "Epoch 725/1000000\n",
      " - 0s - loss: 0.1744\n",
      "Epoch 726/1000000\n",
      " - 0s - loss: 0.1745\n",
      "Epoch 727/1000000\n",
      " - 0s - loss: 0.1745\n",
      "Epoch 728/1000000\n",
      " - 0s - loss: 0.1745\n",
      "Epoch 729/1000000\n",
      " - 0s - loss: 0.1748\n",
      "Epoch 730/1000000\n",
      " - 0s - loss: 0.1746\n",
      "Epoch 731/1000000\n",
      " - 0s - loss: 0.1744\n",
      "Epoch 732/1000000\n",
      " - 0s - loss: 0.1744\n",
      "Epoch 733/1000000\n",
      " - 0s - loss: 0.1745\n",
      "Epoch 734/1000000\n",
      " - 0s - loss: 0.1744\n",
      "Epoch 735/1000000\n",
      " - 0s - loss: 0.1744\n",
      "Epoch 736/1000000\n",
      " - 0s - loss: 0.1744\n",
      "Epoch 737/1000000\n",
      " - 0s - loss: 0.1746\n",
      "Epoch 738/1000000\n",
      " - 0s - loss: 0.1745\n",
      "Epoch 739/1000000\n",
      " - 0s - loss: 0.1745\n",
      "Epoch 740/1000000\n",
      " - 0s - loss: 0.1745\n",
      "Epoch 741/1000000\n",
      " - 0s - loss: 0.1743\n",
      "Epoch 742/1000000\n",
      " - 0s - loss: 0.1745\n",
      "Epoch 743/1000000\n",
      " - 0s - loss: 0.1744\n",
      "Epoch 744/1000000\n",
      " - 0s - loss: 0.1745\n",
      "Epoch 745/1000000\n",
      " - 0s - loss: 0.1744\n",
      "Epoch 746/1000000\n",
      " - 0s - loss: 0.1744\n",
      "Epoch 747/1000000\n",
      " - 0s - loss: 0.1744\n",
      "Epoch 748/1000000\n",
      " - 0s - loss: 0.1745\n",
      "Epoch 749/1000000\n",
      " - 0s - loss: 0.1746\n",
      "Epoch 750/1000000\n",
      " - 0s - loss: 0.1744\n",
      "Epoch 751/1000000\n",
      " - 0s - loss: 0.1744\n",
      "Epoch 752/1000000\n",
      " - 0s - loss: 0.1746\n",
      "Epoch 753/1000000\n",
      " - 0s - loss: 0.1745\n",
      "Epoch 754/1000000\n",
      " - 0s - loss: 0.1744\n",
      "Epoch 755/1000000\n",
      " - 0s - loss: 0.1744\n",
      "Epoch 756/1000000\n",
      " - 0s - loss: 0.1744\n",
      "Epoch 757/1000000\n",
      " - 0s - loss: 0.1744\n",
      "Epoch 758/1000000\n",
      " - 0s - loss: 0.1745\n",
      "Epoch 759/1000000\n",
      " - 0s - loss: 0.1744\n",
      "Epoch 760/1000000\n",
      " - 0s - loss: 0.1745\n",
      "Epoch 761/1000000\n",
      " - 0s - loss: 0.1743\n",
      "Epoch 762/1000000\n",
      " - 0s - loss: 0.1744\n",
      "Epoch 763/1000000\n",
      " - 0s - loss: 0.1745\n",
      "Epoch 764/1000000\n",
      " - 0s - loss: 0.1744\n",
      "Epoch 765/1000000\n",
      " - 0s - loss: 0.1745\n",
      "Epoch 766/1000000\n",
      " - 0s - loss: 0.1743\n",
      "Epoch 767/1000000\n",
      " - 0s - loss: 0.1743\n",
      "Epoch 768/1000000\n",
      " - 0s - loss: 0.1747\n",
      "Epoch 769/1000000\n",
      " - 0s - loss: 0.1743\n",
      "Epoch 770/1000000\n",
      " - 0s - loss: 0.1743\n",
      "Epoch 771/1000000\n",
      " - 0s - loss: 0.1743\n",
      "Epoch 772/1000000\n",
      " - 0s - loss: 0.1743\n",
      "Epoch 773/1000000\n",
      " - 0s - loss: 0.1746\n",
      "Epoch 774/1000000\n",
      " - 0s - loss: 0.1743\n",
      "Epoch 775/1000000\n",
      " - 0s - loss: 0.1743\n",
      "Epoch 776/1000000\n",
      " - 0s - loss: 0.1744\n",
      "Epoch 777/1000000\n",
      " - 0s - loss: 0.1744\n",
      "Epoch 778/1000000\n",
      " - 0s - loss: 0.1743\n",
      "Epoch 779/1000000\n",
      " - 0s - loss: 0.1743\n",
      "Epoch 780/1000000\n",
      " - 0s - loss: 0.1743\n",
      "Epoch 781/1000000\n",
      " - 0s - loss: 0.1743\n",
      "Epoch 782/1000000\n",
      " - 0s - loss: 0.1743\n",
      "Epoch 783/1000000\n",
      " - 0s - loss: 0.1743\n",
      "Epoch 784/1000000\n",
      " - 0s - loss: 0.1743\n",
      "Epoch 785/1000000\n",
      " - 0s - loss: 0.1744\n",
      "Epoch 786/1000000\n",
      " - 0s - loss: 0.1743\n",
      "Epoch 787/1000000\n",
      " - 0s - loss: 0.1744\n",
      "Epoch 788/1000000\n",
      " - 0s - loss: 0.1742\n",
      "Epoch 789/1000000\n",
      " - 0s - loss: 0.1743\n",
      "Epoch 790/1000000\n",
      " - 0s - loss: 0.1742\n",
      "Epoch 791/1000000\n",
      " - 0s - loss: 0.1744\n",
      "Epoch 792/1000000\n",
      " - 0s - loss: 0.1743\n",
      "Epoch 793/1000000\n",
      " - 0s - loss: 0.1743\n",
      "Epoch 794/1000000\n"
     ]
    },
    {
     "name": "stdout",
     "output_type": "stream",
     "text": [
      " - 0s - loss: 0.1742\n",
      "Epoch 795/1000000\n",
      " - 0s - loss: 0.1742\n",
      "Epoch 796/1000000\n",
      " - 0s - loss: 0.1742\n",
      "Epoch 797/1000000\n",
      " - 0s - loss: 0.1742\n",
      "Epoch 798/1000000\n",
      " - 0s - loss: 0.1743\n",
      "Epoch 799/1000000\n",
      " - 0s - loss: 0.1743\n",
      "Epoch 800/1000000\n",
      " - 0s - loss: 0.1742\n",
      "Epoch 801/1000000\n",
      " - 0s - loss: 0.1743\n",
      "Epoch 802/1000000\n",
      " - 0s - loss: 0.1743\n",
      "Epoch 803/1000000\n",
      " - 0s - loss: 0.1742\n",
      "Epoch 804/1000000\n",
      " - 0s - loss: 0.1743\n",
      "Epoch 805/1000000\n",
      " - 0s - loss: 0.1742\n",
      "Epoch 806/1000000\n",
      " - 0s - loss: 0.1742\n",
      "Epoch 807/1000000\n",
      " - 0s - loss: 0.1742\n",
      "Epoch 808/1000000\n",
      " - 0s - loss: 0.1742\n",
      "Epoch 809/1000000\n",
      " - 0s - loss: 0.1743\n",
      "Epoch 810/1000000\n",
      " - 0s - loss: 0.1744\n",
      "Epoch 811/1000000\n",
      " - 0s - loss: 0.1742\n",
      "Epoch 812/1000000\n",
      " - 0s - loss: 0.1742\n",
      "Epoch 813/1000000\n",
      " - 0s - loss: 0.1742\n",
      "Epoch 814/1000000\n",
      " - 0s - loss: 0.1742\n",
      "Epoch 815/1000000\n",
      " - 0s - loss: 0.1742\n",
      "Epoch 816/1000000\n",
      " - 0s - loss: 0.1742\n",
      "Epoch 817/1000000\n",
      " - 0s - loss: 0.1742\n",
      "Epoch 818/1000000\n",
      " - 0s - loss: 0.1741\n",
      "Epoch 819/1000000\n",
      " - 0s - loss: 0.1742\n",
      "Epoch 820/1000000\n",
      " - 0s - loss: 0.1742\n",
      "Epoch 821/1000000\n",
      " - 0s - loss: 0.1741\n",
      "Epoch 822/1000000\n",
      " - 0s - loss: 0.1741\n",
      "Epoch 823/1000000\n",
      " - 0s - loss: 0.1743\n",
      "Epoch 824/1000000\n",
      " - 0s - loss: 0.1741\n",
      "Epoch 825/1000000\n",
      " - 0s - loss: 0.1742\n",
      "Epoch 826/1000000\n",
      " - 0s - loss: 0.1741\n",
      "Epoch 827/1000000\n",
      " - 0s - loss: 0.1741\n",
      "Epoch 828/1000000\n",
      " - 0s - loss: 0.1741\n",
      "Epoch 829/1000000\n",
      " - 0s - loss: 0.1742\n",
      "Epoch 830/1000000\n",
      " - 0s - loss: 0.1742\n",
      "Epoch 831/1000000\n",
      " - 0s - loss: 0.1741\n",
      "Epoch 832/1000000\n",
      " - 0s - loss: 0.1741\n",
      "Epoch 833/1000000\n",
      " - 0s - loss: 0.1742\n",
      "Epoch 834/1000000\n",
      " - 0s - loss: 0.1741\n",
      "Epoch 835/1000000\n",
      " - 0s - loss: 0.1741\n",
      "Epoch 836/1000000\n",
      " - 0s - loss: 0.1742\n",
      "Epoch 837/1000000\n",
      " - 0s - loss: 0.1742\n",
      "Epoch 838/1000000\n",
      " - 0s - loss: 0.1742\n",
      "Epoch 839/1000000\n",
      " - 0s - loss: 0.1741\n",
      "Epoch 840/1000000\n",
      " - 0s - loss: 0.1741\n",
      "Epoch 841/1000000\n",
      " - 0s - loss: 0.1742\n",
      "Epoch 842/1000000\n",
      " - 0s - loss: 0.1741\n",
      "Epoch 843/1000000\n",
      " - 0s - loss: 0.1742\n",
      "Epoch 844/1000000\n",
      " - 0s - loss: 0.1741\n",
      "Epoch 845/1000000\n",
      " - 0s - loss: 0.1743\n",
      "Epoch 846/1000000\n",
      " - 0s - loss: 0.1742\n",
      "Epoch 847/1000000\n",
      " - 0s - loss: 0.1742\n",
      "Epoch 848/1000000\n",
      " - 0s - loss: 0.1741\n",
      "Epoch 849/1000000\n",
      " - 0s - loss: 0.1740\n",
      "Epoch 850/1000000\n",
      " - 0s - loss: 0.1741\n",
      "Epoch 851/1000000\n",
      " - 0s - loss: 0.1741\n",
      "Epoch 852/1000000\n",
      " - 0s - loss: 0.1741\n",
      "Epoch 853/1000000\n",
      " - 0s - loss: 0.1741\n",
      "Epoch 854/1000000\n",
      " - 0s - loss: 0.1740\n",
      "Epoch 855/1000000\n",
      " - 0s - loss: 0.1740\n",
      "Epoch 856/1000000\n",
      " - 0s - loss: 0.1741\n",
      "Epoch 857/1000000\n",
      " - 0s - loss: 0.1740\n",
      "Epoch 858/1000000\n",
      " - 0s - loss: 0.1740\n",
      "Epoch 859/1000000\n",
      " - 0s - loss: 0.1741\n",
      "Epoch 860/1000000\n",
      " - 0s - loss: 0.1741\n",
      "Epoch 861/1000000\n",
      " - 0s - loss: 0.1740\n",
      "Epoch 862/1000000\n",
      " - 0s - loss: 0.1741\n",
      "Epoch 863/1000000\n",
      " - 0s - loss: 0.1741\n",
      "Epoch 864/1000000\n",
      " - 0s - loss: 0.1742\n",
      "Epoch 865/1000000\n",
      " - 0s - loss: 0.1740\n",
      "Epoch 866/1000000\n",
      " - 0s - loss: 0.1741\n",
      "Epoch 867/1000000\n",
      " - 0s - loss: 0.1743\n",
      "Epoch 868/1000000\n",
      " - 0s - loss: 0.1741\n",
      "Epoch 869/1000000\n",
      " - 0s - loss: 0.1740\n",
      "Epoch 870/1000000\n",
      " - 0s - loss: 0.1741\n",
      "Epoch 871/1000000\n",
      " - 0s - loss: 0.1740\n",
      "Epoch 872/1000000\n",
      " - 0s - loss: 0.1740\n",
      "Epoch 873/1000000\n",
      " - 0s - loss: 0.1739\n",
      "Epoch 874/1000000\n",
      " - 0s - loss: 0.1741\n",
      "Epoch 875/1000000\n",
      " - 0s - loss: 0.1740\n",
      "Epoch 876/1000000\n",
      " - 0s - loss: 0.1740\n",
      "Epoch 877/1000000\n",
      " - 0s - loss: 0.1740\n",
      "Epoch 878/1000000\n",
      " - 0s - loss: 0.1741\n",
      "Epoch 879/1000000\n",
      " - 0s - loss: 0.1740\n",
      "Epoch 880/1000000\n",
      " - 0s - loss: 0.1740\n",
      "Epoch 881/1000000\n",
      " - 0s - loss: 0.1739\n",
      "Epoch 882/1000000\n",
      " - 0s - loss: 0.1740\n",
      "Epoch 883/1000000\n",
      " - 0s - loss: 0.1739\n",
      "Epoch 884/1000000\n",
      " - 0s - loss: 0.1740\n",
      "Epoch 885/1000000\n",
      " - 0s - loss: 0.1739\n",
      "Epoch 886/1000000\n",
      " - 0s - loss: 0.1740\n",
      "Epoch 887/1000000\n",
      " - 0s - loss: 0.1740\n",
      "Epoch 888/1000000\n",
      " - 0s - loss: 0.1739\n",
      "Epoch 889/1000000\n",
      " - 0s - loss: 0.1740\n",
      "Epoch 890/1000000\n",
      " - 0s - loss: 0.1741\n",
      "Epoch 891/1000000\n",
      " - 0s - loss: 0.1740\n",
      "Epoch 892/1000000\n",
      " - 0s - loss: 0.1740\n",
      "Epoch 893/1000000\n",
      " - 0s - loss: 0.1739\n",
      "Epoch 894/1000000\n",
      " - 0s - loss: 0.1739\n",
      "Epoch 895/1000000\n",
      " - 0s - loss: 0.1740\n",
      "Epoch 896/1000000\n",
      " - 0s - loss: 0.1740\n",
      "Epoch 897/1000000\n",
      " - 0s - loss: 0.1740\n",
      "Epoch 898/1000000\n",
      " - 0s - loss: 0.1739\n",
      "Epoch 899/1000000\n",
      " - 0s - loss: 0.1740\n",
      "Epoch 900/1000000\n",
      " - 0s - loss: 0.1739\n",
      "Epoch 901/1000000\n",
      " - 0s - loss: 0.1739\n",
      "Epoch 902/1000000\n",
      " - 0s - loss: 0.1741\n",
      "Epoch 903/1000000\n",
      " - 0s - loss: 0.1740\n",
      "Epoch 904/1000000\n",
      " - 0s - loss: 0.1739\n",
      "Epoch 905/1000000\n",
      " - 0s - loss: 0.1739\n",
      "Epoch 906/1000000\n",
      " - 0s - loss: 0.1739\n",
      "Epoch 907/1000000\n",
      " - 0s - loss: 0.1739\n",
      "Epoch 908/1000000\n",
      " - 0s - loss: 0.1739\n",
      "Epoch 909/1000000\n",
      " - 0s - loss: 0.1739\n",
      "Epoch 910/1000000\n",
      " - 0s - loss: 0.1739\n",
      "Epoch 911/1000000\n",
      " - 0s - loss: 0.1740\n",
      "Epoch 912/1000000\n",
      " - 0s - loss: 0.1739\n",
      "Epoch 913/1000000\n",
      " - 0s - loss: 0.1739\n",
      "Epoch 914/1000000\n",
      " - 0s - loss: 0.1739\n",
      "Epoch 915/1000000\n",
      " - 0s - loss: 0.1739\n",
      "Epoch 916/1000000\n",
      " - 0s - loss: 0.1739\n",
      "Epoch 917/1000000\n",
      " - 0s - loss: 0.1740\n",
      "Epoch 918/1000000\n",
      " - 0s - loss: 0.1740\n",
      "Epoch 919/1000000\n",
      " - 0s - loss: 0.1740\n",
      "Epoch 920/1000000\n",
      " - 0s - loss: 0.1739\n",
      "Epoch 921/1000000\n",
      " - 0s - loss: 0.1738\n",
      "Epoch 922/1000000\n",
      " - 0s - loss: 0.1738\n",
      "Epoch 923/1000000\n",
      " - 0s - loss: 0.1738\n",
      "Epoch 924/1000000\n",
      " - 0s - loss: 0.1738\n",
      "Epoch 925/1000000\n",
      " - 0s - loss: 0.1738\n",
      "Epoch 926/1000000\n",
      " - 0s - loss: 0.1739\n",
      "Epoch 927/1000000\n",
      " - 0s - loss: 0.1740\n",
      "Epoch 928/1000000\n",
      " - 0s - loss: 0.1738\n",
      "Epoch 929/1000000\n",
      " - 0s - loss: 0.1739\n",
      "Epoch 930/1000000\n",
      " - 0s - loss: 0.1739\n",
      "Epoch 931/1000000\n",
      " - 0s - loss: 0.1740\n",
      "Epoch 932/1000000\n",
      " - 0s - loss: 0.1739\n",
      "Epoch 933/1000000\n",
      " - 0s - loss: 0.1738\n",
      "Epoch 934/1000000\n",
      " - 0s - loss: 0.1738\n",
      "Epoch 935/1000000\n",
      " - 0s - loss: 0.1739\n",
      "Epoch 936/1000000\n",
      " - 0s - loss: 0.1739\n",
      "Epoch 937/1000000\n",
      " - 0s - loss: 0.1738\n",
      "Epoch 938/1000000\n",
      " - 0s - loss: 0.1739\n",
      "Epoch 939/1000000\n",
      " - 0s - loss: 0.1738\n",
      "Epoch 940/1000000\n",
      " - 0s - loss: 0.1738\n",
      "Epoch 941/1000000\n",
      " - 0s - loss: 0.1738\n",
      "Epoch 942/1000000\n",
      " - 0s - loss: 0.1739\n",
      "Epoch 943/1000000\n",
      " - 0s - loss: 0.1738\n",
      "Epoch 944/1000000\n",
      " - 0s - loss: 0.1739\n",
      "Epoch 945/1000000\n",
      " - 0s - loss: 0.1738\n",
      "Epoch 946/1000000\n",
      " - 0s - loss: 0.1738\n",
      "Epoch 947/1000000\n",
      " - 0s - loss: 0.1738\n",
      "Epoch 948/1000000\n",
      " - 0s - loss: 0.1739\n",
      "Epoch 949/1000000\n",
      " - 0s - loss: 0.1738\n",
      "Epoch 950/1000000\n",
      " - 0s - loss: 0.1736\n",
      "Epoch 951/1000000\n",
      " - 0s - loss: 0.1737\n",
      "Epoch 952/1000000\n",
      " - 0s - loss: 0.1737\n",
      "Epoch 953/1000000\n",
      " - 0s - loss: 0.1738\n",
      "Epoch 954/1000000\n",
      " - 0s - loss: 0.1738\n",
      "Epoch 955/1000000\n",
      " - 0s - loss: 0.1737\n",
      "Epoch 956/1000000\n",
      " - 0s - loss: 0.1738\n",
      "Epoch 957/1000000\n",
      " - 0s - loss: 0.1739\n",
      "Epoch 958/1000000\n",
      " - 0s - loss: 0.1737\n",
      "Epoch 959/1000000\n",
      " - 0s - loss: 0.1739\n",
      "Epoch 960/1000000\n",
      " - 0s - loss: 0.1738\n",
      "Epoch 961/1000000\n",
      " - 0s - loss: 0.1737\n",
      "Epoch 962/1000000\n",
      " - 0s - loss: 0.1739\n",
      "Epoch 963/1000000\n",
      " - 0s - loss: 0.1737\n",
      "Epoch 964/1000000\n",
      " - 0s - loss: 0.1737\n",
      "Epoch 965/1000000\n",
      " - 0s - loss: 0.1738\n",
      "Epoch 966/1000000\n",
      " - 0s - loss: 0.1738\n",
      "Epoch 967/1000000\n",
      " - 0s - loss: 0.1738\n",
      "Epoch 968/1000000\n",
      " - 0s - loss: 0.1738\n",
      "Epoch 969/1000000\n",
      " - 0s - loss: 0.1738\n",
      "Epoch 970/1000000\n",
      " - 0s - loss: 0.1738\n",
      "Epoch 971/1000000\n",
      " - 0s - loss: 0.1737\n",
      "Epoch 972/1000000\n",
      " - 0s - loss: 0.1737\n",
      "Epoch 973/1000000\n",
      " - 0s - loss: 0.1738\n",
      "Epoch 974/1000000\n",
      " - 0s - loss: 0.1737\n",
      "Epoch 975/1000000\n",
      " - 0s - loss: 0.1738\n",
      "Epoch 976/1000000\n",
      " - 0s - loss: 0.1737\n",
      "Epoch 977/1000000\n",
      " - 0s - loss: 0.1738\n",
      "Epoch 978/1000000\n",
      " - 0s - loss: 0.1737\n",
      "Epoch 979/1000000\n",
      " - 0s - loss: 0.1737\n",
      "Epoch 980/1000000\n"
     ]
    },
    {
     "ename": "KeyboardInterrupt",
     "evalue": "",
     "output_type": "error",
     "traceback": [
      "\u001b[1;31m---------------------------------------------------------------------------\u001b[0m",
      "\u001b[1;31mKeyboardInterrupt\u001b[0m                         Traceback (most recent call last)",
      "\u001b[1;32m<ipython-input-279-1f1b92224742>\u001b[0m in \u001b[0;36m<module>\u001b[1;34m()\u001b[0m\n\u001b[1;32m----> 1\u001b[1;33m \u001b[0mmodel\u001b[0m\u001b[1;33m.\u001b[0m\u001b[0mfit\u001b[0m\u001b[1;33m(\u001b[0m\u001b[0mX_train\u001b[0m\u001b[1;33m,\u001b[0m\u001b[0mY_train\u001b[0m\u001b[1;33m,\u001b[0m\u001b[0mverbose\u001b[0m\u001b[1;33m=\u001b[0m\u001b[1;36m2\u001b[0m\u001b[1;33m,\u001b[0m\u001b[0mepochs\u001b[0m\u001b[1;33m=\u001b[0m\u001b[1;36m1000000\u001b[0m\u001b[1;33m)\u001b[0m\u001b[1;33m\u001b[0m\u001b[0m\n\u001b[0m\u001b[0;32m      2\u001b[0m \u001b[1;31m# model.fit(X_train,Y_train,verbose=2)\u001b[0m\u001b[1;33m\u001b[0m\u001b[1;33m\u001b[0m\u001b[0m\n",
      "\u001b[1;32m~\\Anaconda3\\lib\\site-packages\\keras\\models.py\u001b[0m in \u001b[0;36mfit\u001b[1;34m(self, x, y, batch_size, epochs, verbose, callbacks, validation_split, validation_data, shuffle, class_weight, sample_weight, initial_epoch, steps_per_epoch, validation_steps, **kwargs)\u001b[0m\n\u001b[0;32m    961\u001b[0m                               \u001b[0minitial_epoch\u001b[0m\u001b[1;33m=\u001b[0m\u001b[0minitial_epoch\u001b[0m\u001b[1;33m,\u001b[0m\u001b[1;33m\u001b[0m\u001b[0m\n\u001b[0;32m    962\u001b[0m                               \u001b[0msteps_per_epoch\u001b[0m\u001b[1;33m=\u001b[0m\u001b[0msteps_per_epoch\u001b[0m\u001b[1;33m,\u001b[0m\u001b[1;33m\u001b[0m\u001b[0m\n\u001b[1;32m--> 963\u001b[1;33m                               validation_steps=validation_steps)\n\u001b[0m\u001b[0;32m    964\u001b[0m \u001b[1;33m\u001b[0m\u001b[0m\n\u001b[0;32m    965\u001b[0m     def evaluate(self, x=None, y=None,\n",
      "\u001b[1;32m~\\Anaconda3\\lib\\site-packages\\keras\\engine\\training.py\u001b[0m in \u001b[0;36mfit\u001b[1;34m(self, x, y, batch_size, epochs, verbose, callbacks, validation_split, validation_data, shuffle, class_weight, sample_weight, initial_epoch, steps_per_epoch, validation_steps, **kwargs)\u001b[0m\n\u001b[0;32m   1703\u001b[0m                               \u001b[0minitial_epoch\u001b[0m\u001b[1;33m=\u001b[0m\u001b[0minitial_epoch\u001b[0m\u001b[1;33m,\u001b[0m\u001b[1;33m\u001b[0m\u001b[0m\n\u001b[0;32m   1704\u001b[0m                               \u001b[0msteps_per_epoch\u001b[0m\u001b[1;33m=\u001b[0m\u001b[0msteps_per_epoch\u001b[0m\u001b[1;33m,\u001b[0m\u001b[1;33m\u001b[0m\u001b[0m\n\u001b[1;32m-> 1705\u001b[1;33m                               validation_steps=validation_steps)\n\u001b[0m\u001b[0;32m   1706\u001b[0m \u001b[1;33m\u001b[0m\u001b[0m\n\u001b[0;32m   1707\u001b[0m     def evaluate(self, x=None, y=None,\n",
      "\u001b[1;32m~\\Anaconda3\\lib\\site-packages\\keras\\engine\\training.py\u001b[0m in \u001b[0;36m_fit_loop\u001b[1;34m(self, f, ins, out_labels, batch_size, epochs, verbose, callbacks, val_f, val_ins, shuffle, callback_metrics, initial_epoch, steps_per_epoch, validation_steps)\u001b[0m\n\u001b[0;32m   1221\u001b[0m                             \u001b[0mins_batch\u001b[0m \u001b[1;33m=\u001b[0m \u001b[0m_slice_arrays\u001b[0m\u001b[1;33m(\u001b[0m\u001b[0mins\u001b[0m\u001b[1;33m[\u001b[0m\u001b[1;33m:\u001b[0m\u001b[1;33m-\u001b[0m\u001b[1;36m1\u001b[0m\u001b[1;33m]\u001b[0m\u001b[1;33m,\u001b[0m \u001b[0mbatch_ids\u001b[0m\u001b[1;33m)\u001b[0m \u001b[1;33m+\u001b[0m \u001b[1;33m[\u001b[0m\u001b[0mins\u001b[0m\u001b[1;33m[\u001b[0m\u001b[1;33m-\u001b[0m\u001b[1;36m1\u001b[0m\u001b[1;33m]\u001b[0m\u001b[1;33m]\u001b[0m\u001b[1;33m\u001b[0m\u001b[0m\n\u001b[0;32m   1222\u001b[0m                         \u001b[1;32melse\u001b[0m\u001b[1;33m:\u001b[0m\u001b[1;33m\u001b[0m\u001b[0m\n\u001b[1;32m-> 1223\u001b[1;33m                             \u001b[0mins_batch\u001b[0m \u001b[1;33m=\u001b[0m \u001b[0m_slice_arrays\u001b[0m\u001b[1;33m(\u001b[0m\u001b[0mins\u001b[0m\u001b[1;33m,\u001b[0m \u001b[0mbatch_ids\u001b[0m\u001b[1;33m)\u001b[0m\u001b[1;33m\u001b[0m\u001b[0m\n\u001b[0m\u001b[0;32m   1224\u001b[0m                     \u001b[1;32mexcept\u001b[0m \u001b[0mTypeError\u001b[0m\u001b[1;33m:\u001b[0m\u001b[1;33m\u001b[0m\u001b[0m\n\u001b[0;32m   1225\u001b[0m                         raise TypeError('TypeError while preparing batch. '\n",
      "\u001b[1;32m~\\Anaconda3\\lib\\site-packages\\keras\\engine\\training.py\u001b[0m in \u001b[0;36m_slice_arrays\u001b[1;34m(arrays, start, stop)\u001b[0m\n\u001b[0;32m    383\u001b[0m             \u001b[1;32mif\u001b[0m \u001b[0mhasattr\u001b[0m\u001b[1;33m(\u001b[0m\u001b[0mstart\u001b[0m\u001b[1;33m,\u001b[0m \u001b[1;34m'shape'\u001b[0m\u001b[1;33m)\u001b[0m\u001b[1;33m:\u001b[0m\u001b[1;33m\u001b[0m\u001b[0m\n\u001b[0;32m    384\u001b[0m                 \u001b[0mstart\u001b[0m \u001b[1;33m=\u001b[0m \u001b[0mstart\u001b[0m\u001b[1;33m.\u001b[0m\u001b[0mtolist\u001b[0m\u001b[1;33m(\u001b[0m\u001b[1;33m)\u001b[0m\u001b[1;33m\u001b[0m\u001b[0m\n\u001b[1;32m--> 385\u001b[1;33m             \u001b[1;32mreturn\u001b[0m \u001b[1;33m[\u001b[0m\u001b[1;32mNone\u001b[0m \u001b[1;32mif\u001b[0m \u001b[0mx\u001b[0m \u001b[1;32mis\u001b[0m \u001b[1;32mNone\u001b[0m \u001b[1;32melse\u001b[0m \u001b[0mx\u001b[0m\u001b[1;33m[\u001b[0m\u001b[0mstart\u001b[0m\u001b[1;33m]\u001b[0m \u001b[1;32mfor\u001b[0m \u001b[0mx\u001b[0m \u001b[1;32min\u001b[0m \u001b[0marrays\u001b[0m\u001b[1;33m]\u001b[0m\u001b[1;33m\u001b[0m\u001b[0m\n\u001b[0m\u001b[0;32m    386\u001b[0m         \u001b[1;32melse\u001b[0m\u001b[1;33m:\u001b[0m\u001b[1;33m\u001b[0m\u001b[0m\n\u001b[0;32m    387\u001b[0m             \u001b[1;32mreturn\u001b[0m \u001b[1;33m[\u001b[0m\u001b[1;32mNone\u001b[0m \u001b[1;32mif\u001b[0m \u001b[0mx\u001b[0m \u001b[1;32mis\u001b[0m \u001b[1;32mNone\u001b[0m \u001b[1;32melse\u001b[0m \u001b[0mx\u001b[0m\u001b[1;33m[\u001b[0m\u001b[0mstart\u001b[0m\u001b[1;33m:\u001b[0m\u001b[0mstop\u001b[0m\u001b[1;33m]\u001b[0m \u001b[1;32mfor\u001b[0m \u001b[0mx\u001b[0m \u001b[1;32min\u001b[0m \u001b[0marrays\u001b[0m\u001b[1;33m]\u001b[0m\u001b[1;33m\u001b[0m\u001b[0m\n",
      "\u001b[1;32m~\\Anaconda3\\lib\\site-packages\\keras\\engine\\training.py\u001b[0m in \u001b[0;36m<listcomp>\u001b[1;34m(.0)\u001b[0m\n\u001b[0;32m    383\u001b[0m             \u001b[1;32mif\u001b[0m \u001b[0mhasattr\u001b[0m\u001b[1;33m(\u001b[0m\u001b[0mstart\u001b[0m\u001b[1;33m,\u001b[0m \u001b[1;34m'shape'\u001b[0m\u001b[1;33m)\u001b[0m\u001b[1;33m:\u001b[0m\u001b[1;33m\u001b[0m\u001b[0m\n\u001b[0;32m    384\u001b[0m                 \u001b[0mstart\u001b[0m \u001b[1;33m=\u001b[0m \u001b[0mstart\u001b[0m\u001b[1;33m.\u001b[0m\u001b[0mtolist\u001b[0m\u001b[1;33m(\u001b[0m\u001b[1;33m)\u001b[0m\u001b[1;33m\u001b[0m\u001b[0m\n\u001b[1;32m--> 385\u001b[1;33m             \u001b[1;32mreturn\u001b[0m \u001b[1;33m[\u001b[0m\u001b[1;32mNone\u001b[0m \u001b[1;32mif\u001b[0m \u001b[0mx\u001b[0m \u001b[1;32mis\u001b[0m \u001b[1;32mNone\u001b[0m \u001b[1;32melse\u001b[0m \u001b[0mx\u001b[0m\u001b[1;33m[\u001b[0m\u001b[0mstart\u001b[0m\u001b[1;33m]\u001b[0m \u001b[1;32mfor\u001b[0m \u001b[0mx\u001b[0m \u001b[1;32min\u001b[0m \u001b[0marrays\u001b[0m\u001b[1;33m]\u001b[0m\u001b[1;33m\u001b[0m\u001b[0m\n\u001b[0m\u001b[0;32m    386\u001b[0m         \u001b[1;32melse\u001b[0m\u001b[1;33m:\u001b[0m\u001b[1;33m\u001b[0m\u001b[0m\n\u001b[0;32m    387\u001b[0m             \u001b[1;32mreturn\u001b[0m \u001b[1;33m[\u001b[0m\u001b[1;32mNone\u001b[0m \u001b[1;32mif\u001b[0m \u001b[0mx\u001b[0m \u001b[1;32mis\u001b[0m \u001b[1;32mNone\u001b[0m \u001b[1;32melse\u001b[0m \u001b[0mx\u001b[0m\u001b[1;33m[\u001b[0m\u001b[0mstart\u001b[0m\u001b[1;33m:\u001b[0m\u001b[0mstop\u001b[0m\u001b[1;33m]\u001b[0m \u001b[1;32mfor\u001b[0m \u001b[0mx\u001b[0m \u001b[1;32min\u001b[0m \u001b[0marrays\u001b[0m\u001b[1;33m]\u001b[0m\u001b[1;33m\u001b[0m\u001b[0m\n",
      "\u001b[1;31mKeyboardInterrupt\u001b[0m: "
     ]
    }
   ],
   "source": [
    "model.fit(X_train,Y_train,verbose=2,epochs=1000000)\n",
    "# model.fit(X_train,Y_train,verbose=2)"
   ]
  },
  {
   "cell_type": "code",
   "execution_count": 243,
   "metadata": {
    "ExecuteTime": {
     "end_time": "2018-06-18T19:22:28.270495Z",
     "start_time": "2018-06-18T19:22:27.900503Z"
    },
    "colab": {
     "autoexec": {
      "startup": false,
      "wait_interval": 0
     }
    },
    "colab_type": "code",
    "id": "LEbhJF3my811"
   },
   "outputs": [],
   "source": [
    "y_pred=model.predict(X_test)"
   ]
  },
  {
   "cell_type": "code",
   "execution_count": 244,
   "metadata": {
    "ExecuteTime": {
     "end_time": "2018-06-18T19:22:28.791491Z",
     "start_time": "2018-06-18T19:22:28.277500Z"
    },
    "colab": {
     "autoexec": {
      "startup": false,
      "wait_interval": 0
     },
     "base_uri": "https://localhost:8080/",
     "height": 51
    },
    "colab_type": "code",
    "executionInfo": {
     "elapsed": 678,
     "status": "ok",
     "timestamp": 1529347520883,
     "user": {
      "displayName": "Younus",
      "photoUrl": "https://lh3.googleusercontent.com/a/default-user=s128",
      "userId": "103533215213369685105"
     },
     "user_tz": -300
    },
    "id": "-2qPD6JSKmcH",
    "outputId": "ac4fc224-023c-489c-8570-9098f502fc1e"
   },
   "outputs": [
    {
     "name": "stdout",
     "output_type": "stream",
     "text": [
      "1476/1476 [==============================] - 1s 339us/step\n"
     ]
    },
    {
     "data": {
      "text/plain": [
       "0.19350675580301258"
      ]
     },
     "execution_count": 244,
     "metadata": {},
     "output_type": "execute_result"
    }
   ],
   "source": [
    "model.evaluate(X_train,Y_train)"
   ]
  },
  {
   "cell_type": "code",
   "execution_count": 245,
   "metadata": {
    "ExecuteTime": {
     "end_time": "2018-06-18T19:22:28.829488Z",
     "start_time": "2018-06-18T19:22:28.797489Z"
    },
    "colab": {
     "autoexec": {
      "startup": false,
      "wait_interval": 0
     },
     "base_uri": "https://localhost:8080/",
     "height": 51
    },
    "colab_type": "code",
    "executionInfo": {
     "elapsed": 715,
     "status": "ok",
     "timestamp": 1529347521848,
     "user": {
      "displayName": "Younus",
      "photoUrl": "https://lh3.googleusercontent.com/a/default-user=s128",
      "userId": "103533215213369685105"
     },
     "user_tz": -300
    },
    "id": "iHCcbR8lKy1f",
    "outputId": "477c4147-3ea4-4eae-e843-1cde0b5f45a9"
   },
   "outputs": [
    {
     "name": "stdout",
     "output_type": "stream",
     "text": [
      "370/370 [==============================] - 0s 57us/step\n"
     ]
    },
    {
     "data": {
      "text/plain": [
       "0.1939165207179817"
      ]
     },
     "execution_count": 245,
     "metadata": {},
     "output_type": "execute_result"
    }
   ],
   "source": [
    "model.evaluate(X_test,Y_test)"
   ]
  },
  {
   "cell_type": "code",
   "execution_count": 246,
   "metadata": {
    "ExecuteTime": {
     "end_time": "2018-06-18T19:22:28.971489Z",
     "start_time": "2018-06-18T19:22:28.832493Z"
    },
    "colab": {
     "autoexec": {
      "startup": false,
      "wait_interval": 0
     },
     "base_uri": "https://localhost:8080/",
     "height": 34
    },
    "colab_type": "code",
    "executionInfo": {
     "elapsed": 729,
     "status": "ok",
     "timestamp": 1529347522930,
     "user": {
      "displayName": "Younus",
      "photoUrl": "https://lh3.googleusercontent.com/a/default-user=s128",
      "userId": "103533215213369685105"
     },
     "user_tz": -300
    },
    "id": "Ga98Ckb5y819",
    "outputId": "b3beb4a3-b09a-47eb-cb82-56902845eee3"
   },
   "outputs": [
    {
     "name": "stdout",
     "output_type": "stream",
     "text": [
      "-0.0233738084831292\n"
     ]
    }
   ],
   "source": [
    "print(r2_score(Y_test,y_pred))"
   ]
  },
  {
   "cell_type": "code",
   "execution_count": 247,
   "metadata": {
    "ExecuteTime": {
     "end_time": "2018-06-18T19:22:29.221489Z",
     "start_time": "2018-06-18T19:22:28.979489Z"
    }
   },
   "outputs": [],
   "source": [
    "pd.DataFrame(model.predict(X)).to_csv('ansr_y_pred.csv')"
   ]
  },
  {
   "cell_type": "code",
   "execution_count": 248,
   "metadata": {
    "ExecuteTime": {
     "end_time": "2018-06-18T19:22:29.287488Z",
     "start_time": "2018-06-18T19:22:29.228484Z"
    },
    "colab": {
     "autoexec": {
      "startup": false,
      "wait_interval": 0
     },
     "base_uri": "https://localhost:8080/",
     "height": 6307
    },
    "colab_type": "code",
    "executionInfo": {
     "elapsed": 809,
     "status": "ok",
     "timestamp": 1529347524036,
     "user": {
      "displayName": "Younus",
      "photoUrl": "https://lh3.googleusercontent.com/a/default-user=s128",
      "userId": "103533215213369685105"
     },
     "user_tz": -300
    },
    "id": "uqZsYNPay82M",
    "outputId": "5643dc06-451a-4354-d63c-023b972d82ac"
   },
   "outputs": [
    {
     "data": {
      "text/plain": [
       "array([[0.41815603],\n",
       "       [0.41901478],\n",
       "       [0.41886702],\n",
       "       [0.4183982 ],\n",
       "       [0.41814837],\n",
       "       [0.41789952],\n",
       "       [0.41791287],\n",
       "       [0.4174781 ],\n",
       "       [0.4176735 ],\n",
       "       [0.41786417],\n",
       "       [0.41877356],\n",
       "       [0.41790417],\n",
       "       [0.41842946],\n",
       "       [0.41791022],\n",
       "       [0.41765404],\n",
       "       [0.41813534],\n",
       "       [0.41770798],\n",
       "       [0.41826937],\n",
       "       [0.41831425],\n",
       "       [0.41881442],\n",
       "       [0.41816238],\n",
       "       [0.4179489 ],\n",
       "       [0.41891354],\n",
       "       [0.41825435],\n",
       "       [0.41786465],\n",
       "       [0.41888753],\n",
       "       [0.41825578],\n",
       "       [0.41798276],\n",
       "       [0.41858134],\n",
       "       [0.41864952],\n",
       "       [0.41815582],\n",
       "       [0.41829866],\n",
       "       [0.41806838],\n",
       "       [0.41781762],\n",
       "       [0.41873506],\n",
       "       [0.41808847],\n",
       "       [0.41838285],\n",
       "       [0.41795802],\n",
       "       [0.4181056 ],\n",
       "       [0.41804957],\n",
       "       [0.4177452 ],\n",
       "       [0.41849193],\n",
       "       [0.41842207],\n",
       "       [0.41813976],\n",
       "       [0.4181078 ],\n",
       "       [0.4182089 ],\n",
       "       [0.41879165],\n",
       "       [0.4173524 ],\n",
       "       [0.418266  ],\n",
       "       [0.41873872],\n",
       "       [0.4182805 ],\n",
       "       [0.41870016],\n",
       "       [0.41806218],\n",
       "       [0.41777408],\n",
       "       [0.41811526],\n",
       "       [0.41851336],\n",
       "       [0.41855928],\n",
       "       [0.41887096],\n",
       "       [0.41862145],\n",
       "       [0.41777587],\n",
       "       [0.41808206],\n",
       "       [0.41786674],\n",
       "       [0.41843992],\n",
       "       [0.41802928],\n",
       "       [0.41871154],\n",
       "       [0.41791236],\n",
       "       [0.41793287],\n",
       "       [0.41803008],\n",
       "       [0.41861153],\n",
       "       [0.41859204],\n",
       "       [0.41804838],\n",
       "       [0.4176077 ],\n",
       "       [0.41854417],\n",
       "       [0.41794768],\n",
       "       [0.41830108],\n",
       "       [0.41765097],\n",
       "       [0.41793704],\n",
       "       [0.41828337],\n",
       "       [0.41822773],\n",
       "       [0.41841632],\n",
       "       [0.41789895],\n",
       "       [0.41812772],\n",
       "       [0.41882983],\n",
       "       [0.41879016],\n",
       "       [0.418541  ],\n",
       "       [0.41808972],\n",
       "       [0.41776755],\n",
       "       [0.4183423 ],\n",
       "       [0.41951782],\n",
       "       [0.41889217],\n",
       "       [0.41817486],\n",
       "       [0.41757986],\n",
       "       [0.41815376],\n",
       "       [0.41834742],\n",
       "       [0.41861573],\n",
       "       [0.41819376],\n",
       "       [0.4183261 ],\n",
       "       [0.4189854 ],\n",
       "       [0.4184505 ],\n",
       "       [0.4184888 ],\n",
       "       [0.41798759],\n",
       "       [0.41769454],\n",
       "       [0.4177092 ],\n",
       "       [0.41790313],\n",
       "       [0.41808072],\n",
       "       [0.41892546],\n",
       "       [0.41815886],\n",
       "       [0.41911677],\n",
       "       [0.4187088 ],\n",
       "       [0.41791928],\n",
       "       [0.4185188 ],\n",
       "       [0.41786128],\n",
       "       [0.4188752 ],\n",
       "       [0.41789517],\n",
       "       [0.4176657 ],\n",
       "       [0.41878465],\n",
       "       [0.41786617],\n",
       "       [0.4181722 ],\n",
       "       [0.41844264],\n",
       "       [0.41790885],\n",
       "       [0.4188415 ],\n",
       "       [0.4170502 ],\n",
       "       [0.4177484 ],\n",
       "       [0.41825402],\n",
       "       [0.4184618 ],\n",
       "       [0.4176648 ],\n",
       "       [0.41850024],\n",
       "       [0.41829428],\n",
       "       [0.4174361 ],\n",
       "       [0.41803145],\n",
       "       [0.4179471 ],\n",
       "       [0.417764  ],\n",
       "       [0.41765538],\n",
       "       [0.41761684],\n",
       "       [0.4174674 ],\n",
       "       [0.41783318],\n",
       "       [0.41805026],\n",
       "       [0.41886917],\n",
       "       [0.41838923],\n",
       "       [0.4178103 ],\n",
       "       [0.4178779 ],\n",
       "       [0.41788697],\n",
       "       [0.4177067 ],\n",
       "       [0.41820586],\n",
       "       [0.41851017],\n",
       "       [0.4180931 ],\n",
       "       [0.41812706],\n",
       "       [0.41794574],\n",
       "       [0.4179559 ],\n",
       "       [0.41740614],\n",
       "       [0.41789618],\n",
       "       [0.41775307],\n",
       "       [0.41807652],\n",
       "       [0.41709703],\n",
       "       [0.41786316],\n",
       "       [0.41840613],\n",
       "       [0.41862562],\n",
       "       [0.41806638],\n",
       "       [0.41873464],\n",
       "       [0.4188607 ],\n",
       "       [0.41773623],\n",
       "       [0.41859162],\n",
       "       [0.41827387],\n",
       "       [0.4177912 ],\n",
       "       [0.41822883],\n",
       "       [0.41710284],\n",
       "       [0.41806975],\n",
       "       [0.41828457],\n",
       "       [0.4181186 ],\n",
       "       [0.4176857 ],\n",
       "       [0.41832787],\n",
       "       [0.41800034],\n",
       "       [0.4182546 ],\n",
       "       [0.41846484],\n",
       "       [0.41795078],\n",
       "       [0.41802382],\n",
       "       [0.41856423],\n",
       "       [0.41860718],\n",
       "       [0.4186408 ],\n",
       "       [0.41744936],\n",
       "       [0.41801974],\n",
       "       [0.41823387],\n",
       "       [0.41785905],\n",
       "       [0.41750324],\n",
       "       [0.41783535],\n",
       "       [0.41837642],\n",
       "       [0.41850474],\n",
       "       [0.4187033 ],\n",
       "       [0.4181544 ],\n",
       "       [0.41762206],\n",
       "       [0.41791117],\n",
       "       [0.41878748],\n",
       "       [0.4181234 ],\n",
       "       [0.41763514],\n",
       "       [0.4182542 ],\n",
       "       [0.41781846],\n",
       "       [0.41862038],\n",
       "       [0.41823038],\n",
       "       [0.41866308],\n",
       "       [0.4184637 ],\n",
       "       [0.41850844],\n",
       "       [0.41811475],\n",
       "       [0.41879016],\n",
       "       [0.4183502 ],\n",
       "       [0.41840154],\n",
       "       [0.41826123],\n",
       "       [0.41808552],\n",
       "       [0.418574  ],\n",
       "       [0.41802195],\n",
       "       [0.41826025],\n",
       "       [0.41748518],\n",
       "       [0.41862187],\n",
       "       [0.41810602],\n",
       "       [0.41823217],\n",
       "       [0.41832584],\n",
       "       [0.41781637],\n",
       "       [0.41783306],\n",
       "       [0.41769087],\n",
       "       [0.41879642],\n",
       "       [0.41787583],\n",
       "       [0.4182394 ],\n",
       "       [0.41819084],\n",
       "       [0.41798583],\n",
       "       [0.41826627],\n",
       "       [0.417953  ],\n",
       "       [0.41786665],\n",
       "       [0.4184689 ],\n",
       "       [0.4184079 ],\n",
       "       [0.42193007],\n",
       "       [0.4183035 ],\n",
       "       [0.41865835],\n",
       "       [0.41775566],\n",
       "       [0.41772118],\n",
       "       [0.41826835],\n",
       "       [0.41864917],\n",
       "       [0.4175363 ],\n",
       "       [0.4184865 ],\n",
       "       [0.41812354],\n",
       "       [0.41870588],\n",
       "       [0.4180508 ],\n",
       "       [0.4175857 ],\n",
       "       [0.4181788 ],\n",
       "       [0.4185471 ],\n",
       "       [0.41820672],\n",
       "       [0.41836172],\n",
       "       [0.41821352],\n",
       "       [0.41830578],\n",
       "       [0.41816553],\n",
       "       [0.41855097],\n",
       "       [0.4188469 ],\n",
       "       [0.4185316 ],\n",
       "       [0.41816804],\n",
       "       [0.41796952],\n",
       "       [0.418744  ],\n",
       "       [0.41837156],\n",
       "       [0.41820765],\n",
       "       [0.4181667 ],\n",
       "       [0.4188889 ],\n",
       "       [0.4178879 ],\n",
       "       [0.418515  ],\n",
       "       [0.41875875],\n",
       "       [0.4179566 ],\n",
       "       [0.4182306 ],\n",
       "       [0.4177572 ],\n",
       "       [0.41814587],\n",
       "       [0.41882655],\n",
       "       [0.41813314],\n",
       "       [0.41829225],\n",
       "       [0.4174674 ],\n",
       "       [0.41816777],\n",
       "       [0.41793564],\n",
       "       [0.4184088 ],\n",
       "       [0.4182965 ],\n",
       "       [0.41842327],\n",
       "       [0.4183141 ],\n",
       "       [0.41832557],\n",
       "       [0.41806832],\n",
       "       [0.41787246],\n",
       "       [0.4180303 ],\n",
       "       [0.41770795],\n",
       "       [0.4180054 ],\n",
       "       [0.4184962 ],\n",
       "       [0.41787016],\n",
       "       [0.4186807 ],\n",
       "       [0.4181662 ],\n",
       "       [0.41808075],\n",
       "       [0.41792652],\n",
       "       [0.41819173],\n",
       "       [0.41795036],\n",
       "       [0.41799492],\n",
       "       [0.4179381 ],\n",
       "       [0.41873392],\n",
       "       [0.41837198],\n",
       "       [0.41851535],\n",
       "       [0.41799816],\n",
       "       [0.41749692],\n",
       "       [0.4180176 ],\n",
       "       [0.41802707],\n",
       "       [0.41765413],\n",
       "       [0.41793928],\n",
       "       [0.4190134 ],\n",
       "       [0.41930258],\n",
       "       [0.41830778],\n",
       "       [0.41779432],\n",
       "       [0.4181299 ],\n",
       "       [0.4186248 ],\n",
       "       [0.4180776 ],\n",
       "       [0.4182422 ],\n",
       "       [0.4183837 ],\n",
       "       [0.41879776],\n",
       "       [0.41738728],\n",
       "       [0.41853702],\n",
       "       [0.41837016],\n",
       "       [0.4185496 ],\n",
       "       [0.4175169 ],\n",
       "       [0.41758725],\n",
       "       [0.4183571 ],\n",
       "       [0.4179686 ],\n",
       "       [0.41771218],\n",
       "       [0.41843265],\n",
       "       [0.41875368],\n",
       "       [0.4183302 ],\n",
       "       [0.41811225],\n",
       "       [0.41802132],\n",
       "       [0.41753247],\n",
       "       [0.41767332],\n",
       "       [0.41779828],\n",
       "       [0.41869363],\n",
       "       [0.41737476],\n",
       "       [0.41825685],\n",
       "       [0.41800946],\n",
       "       [0.41776502],\n",
       "       [0.41732782],\n",
       "       [0.4187613 ],\n",
       "       [0.4176681 ],\n",
       "       [0.41861397],\n",
       "       [0.4177581 ],\n",
       "       [0.41732845],\n",
       "       [0.41799396],\n",
       "       [0.4179398 ],\n",
       "       [0.418499  ],\n",
       "       [0.41829693],\n",
       "       [0.418514  ],\n",
       "       [0.4175026 ],\n",
       "       [0.41945845],\n",
       "       [0.41786864],\n",
       "       [0.4177152 ],\n",
       "       [0.41819763],\n",
       "       [0.41772565],\n",
       "       [0.4178874 ],\n",
       "       [0.41875073],\n",
       "       [0.41795015],\n",
       "       [0.41764465],\n",
       "       [0.4176756 ],\n",
       "       [0.41853637],\n",
       "       [0.41801262],\n",
       "       [0.4186045 ],\n",
       "       [0.41756073],\n",
       "       [0.41809088],\n",
       "       [0.41758448],\n",
       "       [0.4175249 ],\n",
       "       [0.41734728],\n",
       "       [0.41851804],\n",
       "       [0.41792494],\n",
       "       [0.418018  ],\n",
       "       [0.41797164],\n",
       "       [0.41749966],\n",
       "       [0.4180333 ],\n",
       "       [0.4186174 ],\n",
       "       [0.41769728]], dtype=float32)"
      ]
     },
     "execution_count": 248,
     "metadata": {},
     "output_type": "execute_result"
    }
   ],
   "source": [
    "y_pred"
   ]
  },
  {
   "cell_type": "code",
   "execution_count": 249,
   "metadata": {
    "ExecuteTime": {
     "end_time": "2018-06-18T19:22:29.456483Z",
     "start_time": "2018-06-18T19:22:29.297484Z"
    },
    "colab": {
     "autoexec": {
      "startup": false,
      "wait_interval": 0
     },
     "base_uri": "https://localhost:8080/",
     "height": 6307
    },
    "colab_type": "code",
    "executionInfo": {
     "elapsed": 740,
     "status": "ok",
     "timestamp": 1529347525213,
     "user": {
      "displayName": "Younus",
      "photoUrl": "https://lh3.googleusercontent.com/a/default-user=s128",
      "userId": "103533215213369685105"
     },
     "user_tz": -300
    },
    "id": "HZUVcJ1Fy82S",
    "outputId": "3251ebc2-5200-4155-f186-248157d3bd1c"
   },
   "outputs": [
    {
     "data": {
      "text/plain": [
       "array([[0.55211255],\n",
       "       [0.12712059],\n",
       "       [0.39841846],\n",
       "       [0.1256494 ],\n",
       "       [0.5518367 ],\n",
       "       [0.56231897],\n",
       "       [0.54517034],\n",
       "       [0.14509678],\n",
       "       [0.11935083],\n",
       "       [0.27773436],\n",
       "       [0.61955772],\n",
       "       [0.47712749],\n",
       "       [0.51983817],\n",
       "       [0.13668337],\n",
       "       [0.40913061],\n",
       "       [0.57634132],\n",
       "       [0.09447841],\n",
       "       [0.55358374],\n",
       "       [0.82616891],\n",
       "       [0.55666406],\n",
       "       [0.45391017],\n",
       "       [0.61712105],\n",
       "       [0.58176636],\n",
       "       [0.51652798],\n",
       "       [0.34026022],\n",
       "       [0.45533539],\n",
       "       [0.42250931],\n",
       "       [0.50829847],\n",
       "       [0.28646959],\n",
       "       [0.47184038],\n",
       "       [0.84934026],\n",
       "       [0.43533631],\n",
       "       [0.45464576],\n",
       "       [0.7195991 ],\n",
       "       [0.35543193],\n",
       "       [0.09383477],\n",
       "       [0.52163119],\n",
       "       [0.50806859],\n",
       "       [0.33501908],\n",
       "       [0.75049423],\n",
       "       [0.51101099],\n",
       "       [0.12661487],\n",
       "       [0.12767229],\n",
       "       [0.37313227],\n",
       "       [0.90906165],\n",
       "       [0.16417636],\n",
       "       [0.43455473],\n",
       "       [0.14845294],\n",
       "       [0.27479196],\n",
       "       [0.52425176],\n",
       "       [0.11181095],\n",
       "       [0.15222289],\n",
       "       [0.12647694],\n",
       "       [0.38467197],\n",
       "       [0.95728932],\n",
       "       [0.37437359],\n",
       "       [0.56581307],\n",
       "       [0.03282608],\n",
       "       [0.57900786],\n",
       "       [0.42632523],\n",
       "       [0.4937704 ],\n",
       "       [0.59312216],\n",
       "       [0.49137971],\n",
       "       [0.5272861 ],\n",
       "       [0.11438555],\n",
       "       [0.1357179 ],\n",
       "       [0.31331893],\n",
       "       [0.81610041],\n",
       "       [0.63031585],\n",
       "       [0.32278976],\n",
       "       [0.26109144],\n",
       "       [0.03002161],\n",
       "       [0.57588157],\n",
       "       [0.79977932],\n",
       "       [0.42103811],\n",
       "       [0.13272953],\n",
       "       [0.10289182],\n",
       "       [0.61197186],\n",
       "       [0.43933612],\n",
       "       [0.43533631],\n",
       "       [0.09870811],\n",
       "       [0.13447658],\n",
       "       [0.61330514],\n",
       "       [0.45735828],\n",
       "       [0.4813112 ],\n",
       "       [0.39795871],\n",
       "       [0.13544205],\n",
       "       [0.81697393],\n",
       "       [0.30996276],\n",
       "       [0.10633994],\n",
       "       [0.12813204],\n",
       "       [0.08624891],\n",
       "       [0.5408487 ],\n",
       "       [0.08068595],\n",
       "       [0.5523884 ],\n",
       "       [0.54742311],\n",
       "       [0.11696014],\n",
       "       [0.08275482],\n",
       "       [0.54641166],\n",
       "       [0.336996  ],\n",
       "       [0.64525769],\n",
       "       [0.12702864],\n",
       "       [0.10353547],\n",
       "       [0.        ],\n",
       "       [0.51367753],\n",
       "       [0.59183486],\n",
       "       [0.12275298],\n",
       "       [0.10919038],\n",
       "       [0.46126615],\n",
       "       [0.40991219],\n",
       "       [0.44384166],\n",
       "       [0.42094616],\n",
       "       [0.31506597],\n",
       "       [0.34977702],\n",
       "       [0.32485863],\n",
       "       [0.65996966],\n",
       "       [0.54503241],\n",
       "       [0.08027217],\n",
       "       [0.26605673],\n",
       "       [0.12050021],\n",
       "       [0.15033792],\n",
       "       [0.32839869],\n",
       "       [0.13130431],\n",
       "       [0.54503241],\n",
       "       [0.87292538],\n",
       "       [0.13181003],\n",
       "       [0.12900556],\n",
       "       [0.57537584],\n",
       "       [0.09902993],\n",
       "       [0.14049929],\n",
       "       [0.56273275],\n",
       "       [0.14840697],\n",
       "       [0.79403246],\n",
       "       [0.50057469],\n",
       "       [0.13286745],\n",
       "       [0.43584203],\n",
       "       [0.54576801],\n",
       "       [0.05682497],\n",
       "       [0.52172314],\n",
       "       [0.15047584],\n",
       "       [0.50103444],\n",
       "       [0.12118983],\n",
       "       [0.17314146],\n",
       "       [0.58250195],\n",
       "       [0.07480116],\n",
       "       [0.52756195],\n",
       "       [0.63118937],\n",
       "       [0.79738863],\n",
       "       [0.4719783 ],\n",
       "       [0.08303067],\n",
       "       [0.00193095],\n",
       "       [0.14546458],\n",
       "       [0.41064779],\n",
       "       [0.33437543],\n",
       "       [0.03218243],\n",
       "       [0.5159303 ],\n",
       "       [0.0780194 ],\n",
       "       [0.51165464],\n",
       "       [0.56847961],\n",
       "       [0.08146752],\n",
       "       [1.        ],\n",
       "       [0.31805434],\n",
       "       [0.11548894],\n",
       "       [0.34329456],\n",
       "       [0.5946853 ],\n",
       "       [0.16325686],\n",
       "       [0.11714404],\n",
       "       [0.62318974],\n",
       "       [0.1591651 ],\n",
       "       [0.09893798],\n",
       "       [0.04818169],\n",
       "       [0.38922348],\n",
       "       [0.36104087],\n",
       "       [0.67045193],\n",
       "       [0.36471886],\n",
       "       [0.55602041],\n",
       "       [0.70033562],\n",
       "       [0.80042297],\n",
       "       [0.91347524],\n",
       "       [0.69849662],\n",
       "       [0.56962898],\n",
       "       [0.57670912],\n",
       "       [0.33938669],\n",
       "       [0.14459105],\n",
       "       [0.57335295],\n",
       "       [0.11971863],\n",
       "       [0.32816882],\n",
       "       [0.33805342],\n",
       "       [0.47188635],\n",
       "       [0.70576065],\n",
       "       [0.14905062],\n",
       "       [0.47119673],\n",
       "       [0.05080226],\n",
       "       [0.58889246],\n",
       "       [0.43832467],\n",
       "       [0.12960324],\n",
       "       [0.12790217],\n",
       "       [0.47147258],\n",
       "       [0.4474277 ],\n",
       "       [0.09732886],\n",
       "       [0.09222564],\n",
       "       [0.59151303],\n",
       "       [0.33446738],\n",
       "       [0.08459381],\n",
       "       [0.58999586],\n",
       "       [0.38540757],\n",
       "       [0.5721576 ],\n",
       "       [0.54774493],\n",
       "       [0.11493724],\n",
       "       [0.06413498],\n",
       "       [0.43814078],\n",
       "       [0.84589214],\n",
       "       [0.99319572],\n",
       "       [0.56870948],\n",
       "       [0.07397361],\n",
       "       [0.26991862],\n",
       "       [0.59017976],\n",
       "       [0.50917199],\n",
       "       [0.28968783],\n",
       "       [0.40738357],\n",
       "       [0.12541952],\n",
       "       [0.35561583],\n",
       "       [0.42453221],\n",
       "       [0.55156085],\n",
       "       [0.13162613],\n",
       "       [0.59031769],\n",
       "       [0.54664153],\n",
       "       [0.64020045],\n",
       "       [0.03209048],\n",
       "       [0.5296768 ],\n",
       "       [0.64470599],\n",
       "       [0.54043492],\n",
       "       [0.51707967],\n",
       "       [0.56126155],\n",
       "       [0.5038389 ],\n",
       "       [0.1461542 ],\n",
       "       [0.07447933],\n",
       "       [0.12877569],\n",
       "       [0.14992414],\n",
       "       [0.61132821],\n",
       "       [0.54015907],\n",
       "       [0.73509264],\n",
       "       [0.48935681],\n",
       "       [0.90087812],\n",
       "       [0.34481173],\n",
       "       [0.32049101],\n",
       "       [0.38375247],\n",
       "       [0.44958852],\n",
       "       [0.33915682],\n",
       "       [0.60958117],\n",
       "       [0.3708795 ],\n",
       "       [0.12261505],\n",
       "       [0.41124546],\n",
       "       [0.35060457],\n",
       "       [0.61197186],\n",
       "       [0.12174153],\n",
       "       [0.90349869],\n",
       "       [0.78295251],\n",
       "       [0.15498138],\n",
       "       [0.11066158],\n",
       "       [0.62461496],\n",
       "       [0.46586364],\n",
       "       [0.58195026],\n",
       "       [0.57781251],\n",
       "       [0.54043492],\n",
       "       [0.12275298],\n",
       "       [0.47519654],\n",
       "       [0.3826031 ],\n",
       "       [0.81164084],\n",
       "       [0.26486139],\n",
       "       [0.49878167],\n",
       "       [0.59666222],\n",
       "       [0.38885568],\n",
       "       [0.4391982 ],\n",
       "       [0.44577261],\n",
       "       [0.03232035],\n",
       "       [0.10394924],\n",
       "       [0.67849754],\n",
       "       [0.09126017],\n",
       "       [0.45758816],\n",
       "       [0.91421084],\n",
       "       [0.45630086],\n",
       "       [0.45340444],\n",
       "       [0.54949198],\n",
       "       [0.59873109],\n",
       "       [0.38871776],\n",
       "       [0.43552021],\n",
       "       [0.12974116],\n",
       "       [0.11397177],\n",
       "       [0.12394832],\n",
       "       [0.08555928],\n",
       "       [0.10027125],\n",
       "       [0.58742127],\n",
       "       [0.13249966],\n",
       "       [0.36090295],\n",
       "       [0.41786585],\n",
       "       [0.15116546],\n",
       "       [0.56346835],\n",
       "       [0.52029792],\n",
       "       [0.81467519],\n",
       "       [0.41046389],\n",
       "       [0.82511149],\n",
       "       [0.13346513],\n",
       "       [0.38779826],\n",
       "       [0.54498644],\n",
       "       [0.43630178],\n",
       "       [0.16233736],\n",
       "       [0.58149051],\n",
       "       [0.13420073],\n",
       "       [0.31285918],\n",
       "       [0.08758218],\n",
       "       [0.57482415],\n",
       "       [0.35713301],\n",
       "       [0.55339984],\n",
       "       [0.15300446],\n",
       "       [0.56898533],\n",
       "       [0.08680061],\n",
       "       [0.11645442],\n",
       "       [0.12932739],\n",
       "       [0.10022528],\n",
       "       [0.39409682],\n",
       "       [0.56199715],\n",
       "       [0.59224863],\n",
       "       [0.52530918],\n",
       "       [0.28830858],\n",
       "       [0.5848007 ],\n",
       "       [0.52448163],\n",
       "       [0.16311894],\n",
       "       [0.45459979],\n",
       "       [0.7434141 ],\n",
       "       [0.34255896],\n",
       "       [0.33405361],\n",
       "       [0.41929107],\n",
       "       [0.51496483],\n",
       "       [0.50880419],\n",
       "       [0.08372029],\n",
       "       [0.44972645],\n",
       "       [0.1351662 ],\n",
       "       [0.36035125],\n",
       "       [0.17075077],\n",
       "       [0.17167027],\n",
       "       [0.09452439],\n",
       "       [0.46857616],\n",
       "       [0.54815871],\n",
       "       [0.14716565],\n",
       "       [0.17332536],\n",
       "       [0.51353961],\n",
       "       [0.36145465],\n",
       "       [0.14279803],\n",
       "       [0.5935819 ],\n",
       "       [0.17718726],\n",
       "       [0.0794906 ],\n",
       "       [0.1239943 ],\n",
       "       [0.12661487],\n",
       "       [0.5598823 ],\n",
       "       [0.70511701],\n",
       "       [0.07015769],\n",
       "       [0.32338743],\n",
       "       [0.13089053],\n",
       "       [0.54985978],\n",
       "       [0.2787458 ],\n",
       "       [0.57119213],\n",
       "       [0.37543101],\n",
       "       [0.43952002],\n",
       "       [0.08528344],\n",
       "       [0.0992598 ],\n",
       "       [0.07677808],\n",
       "       [0.63620063],\n",
       "       [0.11994851],\n",
       "       [0.16210749]])"
      ]
     },
     "execution_count": 249,
     "metadata": {},
     "output_type": "execute_result"
    }
   ],
   "source": [
    "Y_test"
   ]
  },
  {
   "cell_type": "code",
   "execution_count": 250,
   "metadata": {
    "ExecuteTime": {
     "end_time": "2018-06-18T19:22:29.665481Z",
     "start_time": "2018-06-18T19:22:29.466482Z"
    },
    "colab": {
     "autoexec": {
      "startup": false,
      "wait_interval": 0
     },
     "base_uri": "https://localhost:8080/",
     "height": 119
    },
    "colab_type": "code",
    "executionInfo": {
     "elapsed": 688,
     "status": "ok",
     "timestamp": 1529347526367,
     "user": {
      "displayName": "Younus",
      "photoUrl": "https://lh3.googleusercontent.com/a/default-user=s128",
      "userId": "103533215213369685105"
     },
     "user_tz": -300
    },
    "id": "NLRyFowMy82c",
    "outputId": "31da0a57-7480-4233-af8d-0fbf6029a438"
   },
   "outputs": [
    {
     "data": {
      "text/plain": [
       "[array([[-0.68068564,  0.37387037,  0.7869119 , -0.20930152],\n",
       "        [ 0.88920784, -0.318745  ,  0.379137  ,  0.53940564],\n",
       "        [ 0.49920365,  0.6929167 ,  0.03638688, -0.72174   ],\n",
       "        [-0.17653885, -0.20030858,  0.09974367,  0.5488029 ]],\n",
       "       dtype=float32),\n",
       " array([ 0.02131245,  0.02266355,  0.02167988, -0.02231891], dtype=float32)]"
      ]
     },
     "execution_count": 250,
     "metadata": {},
     "output_type": "execute_result"
    }
   ],
   "source": [
    "model.layers[0].get_weights()"
   ]
  },
  {
   "cell_type": "code",
   "execution_count": 251,
   "metadata": {
    "ExecuteTime": {
     "end_time": "2018-06-18T19:22:29.798478Z",
     "start_time": "2018-06-18T19:22:29.673480Z"
    },
    "colab": {
     "autoexec": {
      "startup": false,
      "wait_interval": 0
     },
     "base_uri": "https://localhost:8080/",
     "height": 102
    },
    "colab_type": "code",
    "executionInfo": {
     "elapsed": 706,
     "status": "ok",
     "timestamp": 1529347527696,
     "user": {
      "displayName": "Younus",
      "photoUrl": "https://lh3.googleusercontent.com/a/default-user=s128",
      "userId": "103533215213369685105"
     },
     "user_tz": -300
    },
    "id": "GARG7S-MMqbF",
    "outputId": "c5f7d3ff-469d-46c8-a5d4-9b25d5859527"
   },
   "outputs": [
    {
     "data": {
      "text/plain": [
       "[array([[ 0.9339522 ,  0.684622  , -0.10635924],\n",
       "        [ 0.18103644,  0.3206912 , -0.10755172],\n",
       "        [ 0.23863663, -0.45890337, -0.88594544],\n",
       "        [-0.8125912 , -0.24372436,  0.1146611 ]], dtype=float32),\n",
       " array([ 0.02231994,  0.02229979, -0.02205329], dtype=float32)]"
      ]
     },
     "execution_count": 251,
     "metadata": {},
     "output_type": "execute_result"
    }
   ],
   "source": [
    "model.layers[1].get_weights()"
   ]
  },
  {
   "cell_type": "code",
   "execution_count": 252,
   "metadata": {
    "ExecuteTime": {
     "end_time": "2018-06-18T19:22:29.965478Z",
     "start_time": "2018-06-18T19:22:29.803475Z"
    },
    "colab": {
     "autoexec": {
      "startup": false,
      "wait_interval": 0
     },
     "base_uri": "https://localhost:8080/",
     "height": 85
    },
    "colab_type": "code",
    "executionInfo": {
     "elapsed": 680,
     "status": "ok",
     "timestamp": 1529347528662,
     "user": {
      "displayName": "Younus",
      "photoUrl": "https://lh3.googleusercontent.com/a/default-user=s128",
      "userId": "103533215213369685105"
     },
     "user_tz": -300
    },
    "id": "WsAB8F7pMzff",
    "outputId": "536d04aa-2dca-4913-c576-99c43e6d0971"
   },
   "outputs": [
    {
     "data": {
      "text/plain": [
       "[array([[ 0.66306204,  0.99360603],\n",
       "        [-0.5115303 ,  0.55418426],\n",
       "        [ 0.8088408 , -0.9996495 ]], dtype=float32),\n",
       " array([-0.02220351,  0.02224526], dtype=float32)]"
      ]
     },
     "execution_count": 252,
     "metadata": {},
     "output_type": "execute_result"
    }
   ],
   "source": [
    "model.layers[2].get_weights()"
   ]
  },
  {
   "cell_type": "code",
   "execution_count": 253,
   "metadata": {
    "ExecuteTime": {
     "end_time": "2018-06-18T19:22:30.149472Z",
     "start_time": "2018-06-18T19:22:29.973476Z"
    },
    "colab": {
     "autoexec": {
      "startup": false,
      "wait_interval": 0
     },
     "base_uri": "https://localhost:8080/",
     "height": 51
    },
    "colab_type": "code",
    "executionInfo": {
     "elapsed": 749,
     "status": "ok",
     "timestamp": 1529347529691,
     "user": {
      "displayName": "Younus",
      "photoUrl": "https://lh3.googleusercontent.com/a/default-user=s128",
      "userId": "103533215213369685105"
     },
     "user_tz": -300
    },
    "id": "mMqEZyImM0o2",
    "outputId": "0b8a0401-725e-478f-bbd8-933d8906c441"
   },
   "outputs": [
    {
     "data": {
      "text/plain": [
       "[array([[ 0.34751752],\n",
       "        [-0.7929915 ]], dtype=float32), array([-0.02225036], dtype=float32)]"
      ]
     },
     "execution_count": 253,
     "metadata": {},
     "output_type": "execute_result"
    }
   ],
   "source": [
    "model.layers[3].get_weights()"
   ]
  },
  {
   "cell_type": "code",
   "execution_count": 254,
   "metadata": {
    "ExecuteTime": {
     "end_time": "2018-06-18T19:22:30.209471Z",
     "start_time": "2018-06-18T19:22:30.155473Z"
    },
    "colab": {
     "autoexec": {
      "startup": false,
      "wait_interval": 0
     }
    },
    "colab_type": "code",
    "id": "rEMIS13bM1cf"
   },
   "outputs": [],
   "source": [
    "# model.save_weights(\"model.h5\")"
   ]
  },
  {
   "cell_type": "code",
   "execution_count": 255,
   "metadata": {
    "ExecuteTime": {
     "end_time": "2018-06-18T19:22:30.337468Z",
     "start_time": "2018-06-18T19:22:30.215471Z"
    },
    "colab": {
     "autoexec": {
      "startup": false,
      "wait_interval": 0
     }
    },
    "colab_type": "code",
    "id": "0DUoUH4tM6b4"
   },
   "outputs": [],
   "source": [
    "model_json = model.to_json()"
   ]
  },
  {
   "cell_type": "code",
   "execution_count": 256,
   "metadata": {
    "ExecuteTime": {
     "end_time": "2018-06-18T19:22:30.468499Z",
     "start_time": "2018-06-18T19:22:30.343472Z"
    },
    "colab": {
     "autoexec": {
      "startup": false,
      "wait_interval": 0
     },
     "base_uri": "https://localhost:8080/",
     "height": 54
    },
    "colab_type": "code",
    "executionInfo": {
     "elapsed": 732,
     "status": "ok",
     "timestamp": 1529347532785,
     "user": {
      "displayName": "Younus",
      "photoUrl": "https://lh3.googleusercontent.com/a/default-user=s128",
      "userId": "103533215213369685105"
     },
     "user_tz": -300
    },
    "id": "AL29BskrNCY2",
    "outputId": "df098595-9e27-46cf-d73a-882c72647892"
   },
   "outputs": [
    {
     "data": {
      "text/plain": [
       "'{\"class_name\": \"Sequential\", \"config\": [{\"class_name\": \"Dense\", \"config\": {\"name\": \"dense_37\", \"trainable\": true, \"batch_input_shape\": [null, 4], \"dtype\": \"float32\", \"units\": 4, \"activation\": \"sigmoid\", \"use_bias\": true, \"kernel_initializer\": {\"class_name\": \"VarianceScaling\", \"config\": {\"scale\": 1.0, \"mode\": \"fan_avg\", \"distribution\": \"uniform\", \"seed\": null}}, \"bias_initializer\": {\"class_name\": \"Zeros\", \"config\": {}}, \"kernel_regularizer\": null, \"bias_regularizer\": null, \"activity_regularizer\": null, \"kernel_constraint\": null, \"bias_constraint\": null}}, {\"class_name\": \"Dense\", \"config\": {\"name\": \"dense_38\", \"trainable\": true, \"units\": 3, \"activation\": \"sigmoid\", \"use_bias\": true, \"kernel_initializer\": {\"class_name\": \"VarianceScaling\", \"config\": {\"scale\": 1.0, \"mode\": \"fan_avg\", \"distribution\": \"uniform\", \"seed\": null}}, \"bias_initializer\": {\"class_name\": \"Zeros\", \"config\": {}}, \"kernel_regularizer\": null, \"bias_regularizer\": null, \"activity_regularizer\": null, \"kernel_constraint\": null, \"bias_constraint\": null}}, {\"class_name\": \"Dense\", \"config\": {\"name\": \"dense_39\", \"trainable\": true, \"units\": 2, \"activation\": \"sigmoid\", \"use_bias\": true, \"kernel_initializer\": {\"class_name\": \"VarianceScaling\", \"config\": {\"scale\": 1.0, \"mode\": \"fan_avg\", \"distribution\": \"uniform\", \"seed\": null}}, \"bias_initializer\": {\"class_name\": \"Zeros\", \"config\": {}}, \"kernel_regularizer\": null, \"bias_regularizer\": null, \"activity_regularizer\": null, \"kernel_constraint\": null, \"bias_constraint\": null}}, {\"class_name\": \"Dense\", \"config\": {\"name\": \"dense_40\", \"trainable\": true, \"units\": 1, \"activation\": \"sigmoid\", \"use_bias\": true, \"kernel_initializer\": {\"class_name\": \"VarianceScaling\", \"config\": {\"scale\": 1.0, \"mode\": \"fan_avg\", \"distribution\": \"uniform\", \"seed\": null}}, \"bias_initializer\": {\"class_name\": \"Zeros\", \"config\": {}}, \"kernel_regularizer\": null, \"bias_regularizer\": null, \"activity_regularizer\": null, \"kernel_constraint\": null, \"bias_constraint\": null}}], \"keras_version\": \"2.1.5\", \"backend\": \"tensorflow\"}'"
      ]
     },
     "execution_count": 256,
     "metadata": {},
     "output_type": "execute_result"
    }
   ],
   "source": [
    "model_json"
   ]
  },
  {
   "cell_type": "code",
   "execution_count": 257,
   "metadata": {
    "ExecuteTime": {
     "end_time": "2018-06-18T19:22:30.621083Z",
     "start_time": "2018-06-18T19:22:30.474502Z"
    }
   },
   "outputs": [],
   "source": [
    "from keras.models import load_model"
   ]
  },
  {
   "cell_type": "code",
   "execution_count": 258,
   "metadata": {
    "ExecuteTime": {
     "end_time": "2018-06-18T19:22:30.753144Z",
     "start_time": "2018-06-18T19:22:30.625083Z"
    }
   },
   "outputs": [],
   "source": [
    "# model.load_weights('model_full.h5')"
   ]
  },
  {
   "cell_type": "code",
   "execution_count": 259,
   "metadata": {
    "ExecuteTime": {
     "end_time": "2018-06-18T19:22:30.895258Z",
     "start_time": "2018-06-18T19:22:30.758139Z"
    }
   },
   "outputs": [],
   "source": [
    "# model.layers[3].get_weights()"
   ]
  },
  {
   "cell_type": "code",
   "execution_count": 260,
   "metadata": {
    "ExecuteTime": {
     "end_time": "2018-06-18T19:22:31.049254Z",
     "start_time": "2018-06-18T19:22:30.909255Z"
    }
   },
   "outputs": [],
   "source": [
    "# y_pred=model.predict(X_test)"
   ]
  },
  {
   "cell_type": "code",
   "execution_count": 261,
   "metadata": {
    "ExecuteTime": {
     "end_time": "2018-06-18T19:22:31.192000Z",
     "start_time": "2018-06-18T19:22:31.053255Z"
    }
   },
   "outputs": [],
   "source": [
    "# print(r2_score(Y_test,y_pred))"
   ]
  },
  {
   "cell_type": "code",
   "execution_count": 262,
   "metadata": {
    "ExecuteTime": {
     "end_time": "2018-06-18T19:22:31.882271Z",
     "start_time": "2018-06-18T19:22:31.195009Z"
    }
   },
   "outputs": [],
   "source": [
    "model.save('model_full.h5')"
   ]
  },
  {
   "cell_type": "code",
   "execution_count": 263,
   "metadata": {
    "ExecuteTime": {
     "end_time": "2018-06-18T19:22:31.893268Z",
     "start_time": "2018-06-18T19:22:31.887271Z"
    }
   },
   "outputs": [],
   "source": [
    "# model=load_model('model_full.h5')"
   ]
  },
  {
   "cell_type": "code",
   "execution_count": null,
   "metadata": {},
   "outputs": [],
   "source": []
  }
 ],
 "metadata": {
  "colab": {
   "collapsed_sections": [],
   "default_view": {},
   "name": "keras_work.ipynb",
   "provenance": [],
   "toc_visible": true,
   "version": "0.3.2",
   "views": {}
  },
  "kernelspec": {
   "display_name": "Python 3",
   "language": "python",
   "name": "python3"
  },
  "language_info": {
   "codemirror_mode": {
    "name": "ipython",
    "version": 3
   },
   "file_extension": ".py",
   "mimetype": "text/x-python",
   "name": "python",
   "nbconvert_exporter": "python",
   "pygments_lexer": "ipython3",
   "version": "3.6.5"
  }
 },
 "nbformat": 4,
 "nbformat_minor": 1
}
