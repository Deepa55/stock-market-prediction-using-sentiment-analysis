{
 "cells": [
  {
   "cell_type": "code",
   "execution_count": 54,
   "metadata": {
    "ExecuteTime": {
     "end_time": "2018-06-19T17:06:27.847417Z",
     "start_time": "2018-06-19T17:06:27.833415Z"
    },
    "scrolled": true
   },
   "outputs": [],
   "source": [
    "import pandas as pd\n",
    "import numpy as np\n",
    "import random, math"
   ]
  },
  {
   "cell_type": "code",
   "execution_count": 55,
   "metadata": {
    "ExecuteTime": {
     "end_time": "2018-06-19T17:06:28.298400Z",
     "start_time": "2018-06-19T17:06:28.289402Z"
    },
    "scrolled": true
   },
   "outputs": [],
   "source": [
    "random.seed(786)\n",
    "np.random.seed(786)"
   ]
  },
  {
   "cell_type": "code",
   "execution_count": 56,
   "metadata": {
    "ExecuteTime": {
     "end_time": "2018-06-19T17:06:28.899388Z",
     "start_time": "2018-06-19T17:06:28.829392Z"
    },
    "scrolled": true
   },
   "outputs": [],
   "source": [
    "df = pd.read_csv('final_data.csv')\n",
    "df = df[['compound','neg','neu','pos','Close']]\n",
    "# df = df[['neg','neu','pos','Close']]"
   ]
  },
  {
   "cell_type": "code",
   "execution_count": 57,
   "metadata": {
    "ExecuteTime": {
     "end_time": "2018-06-19T17:06:29.390794Z",
     "start_time": "2018-06-19T17:06:29.357792Z"
    }
   },
   "outputs": [
    {
     "data": {
      "text/html": [
       "<div>\n",
       "<style scoped>\n",
       "    .dataframe tbody tr th:only-of-type {\n",
       "        vertical-align: middle;\n",
       "    }\n",
       "\n",
       "    .dataframe tbody tr th {\n",
       "        vertical-align: top;\n",
       "    }\n",
       "\n",
       "    .dataframe thead th {\n",
       "        text-align: right;\n",
       "    }\n",
       "</style>\n",
       "<table border=\"1\" class=\"dataframe\">\n",
       "  <thead>\n",
       "    <tr style=\"text-align: right;\">\n",
       "      <th></th>\n",
       "      <th>compound</th>\n",
       "      <th>neg</th>\n",
       "      <th>neu</th>\n",
       "      <th>pos</th>\n",
       "      <th>Close</th>\n",
       "    </tr>\n",
       "  </thead>\n",
       "  <tbody>\n",
       "    <tr>\n",
       "      <th>0</th>\n",
       "      <td>-0.8934</td>\n",
       "      <td>0.172</td>\n",
       "      <td>0.746</td>\n",
       "      <td>0.082</td>\n",
       "      <td>119.49</td>\n",
       "    </tr>\n",
       "    <tr>\n",
       "      <th>1</th>\n",
       "      <td>-0.6996</td>\n",
       "      <td>0.133</td>\n",
       "      <td>0.806</td>\n",
       "      <td>0.060</td>\n",
       "      <td>121.87</td>\n",
       "    </tr>\n",
       "    <tr>\n",
       "      <th>2</th>\n",
       "      <td>-0.9442</td>\n",
       "      <td>0.319</td>\n",
       "      <td>0.638</td>\n",
       "      <td>0.044</td>\n",
       "      <td>124.93</td>\n",
       "    </tr>\n",
       "    <tr>\n",
       "      <th>3</th>\n",
       "      <td>-0.7906</td>\n",
       "      <td>0.179</td>\n",
       "      <td>0.726</td>\n",
       "      <td>0.094</td>\n",
       "      <td>124.98</td>\n",
       "    </tr>\n",
       "    <tr>\n",
       "      <th>4</th>\n",
       "      <td>-0.5859</td>\n",
       "      <td>0.140</td>\n",
       "      <td>0.766</td>\n",
       "      <td>0.094</td>\n",
       "      <td>124.99</td>\n",
       "    </tr>\n",
       "  </tbody>\n",
       "</table>\n",
       "</div>"
      ],
      "text/plain": [
       "   compound    neg    neu    pos   Close\n",
       "0   -0.8934  0.172  0.746  0.082  119.49\n",
       "1   -0.6996  0.133  0.806  0.060  121.87\n",
       "2   -0.9442  0.319  0.638  0.044  124.93\n",
       "3   -0.7906  0.179  0.726  0.094  124.98\n",
       "4   -0.5859  0.140  0.766  0.094  124.99"
      ]
     },
     "execution_count": 57,
     "metadata": {},
     "output_type": "execute_result"
    }
   ],
   "source": [
    "df.head()"
   ]
  },
  {
   "cell_type": "code",
   "execution_count": 58,
   "metadata": {
    "ExecuteTime": {
     "end_time": "2018-06-19T17:06:30.391114Z",
     "start_time": "2018-06-19T17:06:30.373113Z"
    }
   },
   "outputs": [],
   "source": [
    "from sklearn import preprocessing\n",
    "min_max_scalar=preprocessing.MinMaxScaler()\n",
    "data=min_max_scalar.fit_transform(df)\n",
    "# X_test=min_max_scalar.fit_transform(X_test)\n",
    "# Y_train=min_max_scalar.fit_transform(Y_train)\n",
    "# Y_test=min_max_scalar.fit_transform(Y_test)"
   ]
  },
  {
   "cell_type": "code",
   "execution_count": 59,
   "metadata": {
    "ExecuteTime": {
     "end_time": "2018-06-19T17:06:31.257322Z",
     "start_time": "2018-06-19T17:06:31.252324Z"
    },
    "scrolled": true
   },
   "outputs": [],
   "source": [
    "# df['Close']=df['Close']/400"
   ]
  },
  {
   "cell_type": "code",
   "execution_count": 60,
   "metadata": {
    "ExecuteTime": {
     "end_time": "2018-06-19T17:06:31.706318Z",
     "start_time": "2018-06-19T17:06:31.702318Z"
    }
   },
   "outputs": [],
   "source": [
    "# data = df.values.tolist()"
   ]
  },
  {
   "cell_type": "code",
   "execution_count": 61,
   "metadata": {
    "ExecuteTime": {
     "end_time": "2018-06-19T17:06:34.121502Z",
     "start_time": "2018-06-19T17:06:34.115502Z"
    },
    "scrolled": true
   },
   "outputs": [],
   "source": [
    "data = data.tolist()"
   ]
  },
  {
   "cell_type": "code",
   "execution_count": 62,
   "metadata": {
    "ExecuteTime": {
     "end_time": "2018-06-19T17:06:34.659765Z",
     "start_time": "2018-06-19T17:06:34.653766Z"
    },
    "scrolled": true
   },
   "outputs": [],
   "source": [
    "inner_threshold = 0.005;\n",
    "rate_var = 0;\n",
    "\n",
    "final_ansr = []"
   ]
  },
  {
   "cell_type": "code",
   "execution_count": 63,
   "metadata": {
    "ExecuteTime": {
     "end_time": "2018-06-19T17:06:35.281766Z",
     "start_time": "2018-06-19T17:06:35.275770Z"
    },
    "scrolled": true
   },
   "outputs": [],
   "source": [
    "sigmoid=lambda x:1/(1+math.e**(-x))"
   ]
  },
  {
   "cell_type": "code",
   "execution_count": 64,
   "metadata": {
    "ExecuteTime": {
     "end_time": "2018-06-19T17:06:36.506766Z",
     "start_time": "2018-06-19T17:06:36.492768Z"
    },
    "scrolled": true
   },
   "outputs": [],
   "source": [
    "def fit_func(rec, i):\n",
    "    x1, x2, x3, x4, y = i[0], i[1], i[2], i[3], i[4]\n",
    "\n",
    "    out5 = (x1 * rec['data']['w15']) + (x2 * rec['data']['w25']) + (x3 * rec['data']['w35']) + (x4 * rec['data']['w45']) + rec['data']['o5']\n",
    "    out5 = sigmoid(out5)\n",
    "\n",
    "    out6 = (x1 * rec['data']['w16']) + (x2 * rec['data']['w26']) + (x3 * rec['data']['w36']) + (x4 * rec['data']['w46']) + rec['data']['o6']\n",
    "    out6 = sigmoid(out6)\n",
    "    \n",
    "    out7 = (x1 * rec['data']['w17']) + (x2 * rec['data']['w27']) + (x3 * rec['data']['w37']) + (x4 * rec['data']['w47']) + rec['data']['o7']\n",
    "    out7 = sigmoid(out7)\n",
    "\n",
    "    out8 = (out5 * rec['data']['w58']) + (out6 * rec['data']['w68']) + (out7 * rec['data']['w78']) + rec['data']['o8']\n",
    "    out8 = sigmoid(out8)\n",
    "    \n",
    "    out9 = (out5 * rec['data']['w59']) + (out6 * rec['data']['w69']) + (out7 * rec['data']['w79']) + rec['data']['o9']\n",
    "    out9 = sigmoid(out9)\n",
    "\n",
    "    out10 = (out8 * rec['data']['w810']) + (out9 * rec['data']['w910']) + rec['data']['o10']\n",
    "    out10 = sigmoid(out10)\n",
    "\n",
    "    err10 = out10 * (1 - out10) * (y - out10)\n",
    "\n",
    "    if abs(err10) <= inner_threshold:\n",
    "        # final_ansr.append(out6 * 20000)\n",
    "        rec['fitness'] += 1\n"
   ]
  },
  {
   "cell_type": "code",
   "execution_count": 65,
   "metadata": {
    "ExecuteTime": {
     "end_time": "2018-06-19T17:06:37.799767Z",
     "start_time": "2018-06-19T17:06:37.794765Z"
    },
    "scrolled": true
   },
   "outputs": [],
   "source": [
    "nList = [];\n",
    "m = 20;\n",
    "n = 25;\n",
    "mutation_prob = 75;\n",
    "mutation = 0.5;"
   ]
  },
  {
   "cell_type": "code",
   "execution_count": 66,
   "metadata": {
    "ExecuteTime": {
     "end_time": "2018-06-19T17:06:38.720675Z",
     "start_time": "2018-06-19T17:06:38.715673Z"
    },
    "scrolled": true
   },
   "outputs": [],
   "source": [
    "# ranges for weights & biases\n",
    "wl = -1;\n",
    "wr = 1;\n",
    "bl =0;\n",
    "br = 1"
   ]
  },
  {
   "cell_type": "code",
   "execution_count": 67,
   "metadata": {
    "ExecuteTime": {
     "end_time": "2018-06-19T17:06:39.295766Z",
     "start_time": "2018-06-19T17:06:39.289767Z"
    }
   },
   "outputs": [],
   "source": [
    "total_weights=20\n",
    "total_biases=6"
   ]
  },
  {
   "cell_type": "code",
   "execution_count": 68,
   "metadata": {
    "ExecuteTime": {
     "end_time": "2018-06-19T17:06:41.914546Z",
     "start_time": "2018-06-19T17:06:41.900547Z"
    },
    "scrolled": true
   },
   "outputs": [],
   "source": [
    "for i in range(n):\n",
    "    # floating random weights\n",
    "    w15, w16, w17, w25, w26,w27, w35, w36,w37, w45, w46,w47, w58,w59,w68,w69,w78,w79, w810, w910 = np.random.uniform(wl, wr, total_weights)\n",
    "    # floating random biases\n",
    "    o5, o6, o7,o8, o9, o10 = np.random.uniform(bl, br, total_biases)\n",
    "\n",
    "    nList.append({'data': {'w15': w15, 'w16': w16, 'w17': w17, 'w25': w25, 'w26': w26, 'w27': w27,\n",
    "                           'w35': w35,'w36': w36, 'w37': w37, 'w45': w45, 'w46': w46,\n",
    "                           'w47': w47, 'w58': w58, 'w59': w59, 'w68': w68, 'w69': w69, 'w78': w78,\n",
    "                           'w79': w79,'w810': w810,'w910': w910, 'o5': o5, 'o6': o6, 'o7': o7,\n",
    "                           'o8': o8, 'o9': o9, 'o10': o10},\n",
    "                           'fitness': 0})"
   ]
  },
  {
   "cell_type": "code",
   "execution_count": 69,
   "metadata": {
    "ExecuteTime": {
     "end_time": "2018-06-19T17:06:45.366676Z",
     "start_time": "2018-06-19T17:06:44.309679Z"
    },
    "scrolled": true
   },
   "outputs": [
    {
     "name": "stdout",
     "output_type": "stream",
     "text": [
      "23\n",
      "20\n",
      "124\n",
      "68\n",
      "41\n",
      "62\n",
      "179\n",
      "30\n",
      "56\n",
      "103\n",
      "22\n",
      "174\n",
      "21\n",
      "32\n",
      "33\n",
      "27\n",
      "43\n",
      "21\n",
      "25\n",
      "24\n",
      "61\n",
      "116\n",
      "59\n",
      "28\n",
      "117\n"
     ]
    }
   ],
   "source": [
    "# fitness calculation for first time/initial population\n",
    "for rec in nList:\n",
    "    for i in data:\n",
    "        fit_func(rec, i)\n",
    "        \n",
    "    print(rec['fitness'])"
   ]
  },
  {
   "cell_type": "code",
   "execution_count": 70,
   "metadata": {
    "ExecuteTime": {
     "end_time": "2018-06-19T17:06:46.945935Z",
     "start_time": "2018-06-19T17:06:46.940932Z"
    },
    "scrolled": true
   },
   "outputs": [],
   "source": [
    "count = 0;\n",
    "final_rec = 0\n",
    "flag = False\n",
    "stop_at=50"
   ]
  },
  {
   "cell_type": "code",
   "execution_count": 72,
   "metadata": {
    "ExecuteTime": {
     "end_time": "2018-06-19T17:08:38.133759Z",
     "start_time": "2018-06-19T17:08:38.077787Z"
    },
    "code_folding": [],
    "scrolled": true
   },
   "outputs": [
    {
     "name": "stdout",
     "output_type": "stream",
     "text": [
      "gen: 2\n",
      "20 6\n"
     ]
    },
    {
     "ename": "ValueError",
     "evalue": "empty range for randrange() (20,7, -13)",
     "output_type": "error",
     "traceback": [
      "\u001b[1;31m---------------------------------------------------------------------------\u001b[0m",
      "\u001b[1;31mValueError\u001b[0m                                Traceback (most recent call last)",
      "\u001b[1;32m<ipython-input-72-0444a14c6fd6>\u001b[0m in \u001b[0;36m<module>\u001b[1;34m()\u001b[0m\n\u001b[0;32m     45\u001b[0m                 \u001b[1;31m# get random for mutation in bias\u001b[0m\u001b[1;33m\u001b[0m\u001b[1;33m\u001b[0m\u001b[0m\n\u001b[0;32m     46\u001b[0m                 \u001b[0mprint\u001b[0m\u001b[1;33m(\u001b[0m\u001b[0mtotal_weights\u001b[0m\u001b[1;33m,\u001b[0m\u001b[0mtotal_biases\u001b[0m\u001b[1;33m)\u001b[0m\u001b[1;33m\u001b[0m\u001b[0m\n\u001b[1;32m---> 47\u001b[1;33m                 \u001b[0mt1\u001b[0m \u001b[1;33m=\u001b[0m \u001b[0mrandom\u001b[0m\u001b[1;33m.\u001b[0m\u001b[0mrandint\u001b[0m\u001b[1;33m(\u001b[0m\u001b[0mtotal_weights\u001b[0m\u001b[1;33m,\u001b[0m \u001b[0mtotal_biases\u001b[0m\u001b[1;33m)\u001b[0m\u001b[1;33m\u001b[0m\u001b[0m\n\u001b[0m\u001b[0;32m     48\u001b[0m                 \u001b[1;31m# odd,do +ve\u001b[0m\u001b[1;33m\u001b[0m\u001b[1;33m\u001b[0m\u001b[0m\n\u001b[0;32m     49\u001b[0m                 \u001b[1;32mif\u001b[0m \u001b[0mrandom\u001b[0m\u001b[1;33m.\u001b[0m\u001b[0mrandint\u001b[0m\u001b[1;33m(\u001b[0m\u001b[1;36m1\u001b[0m\u001b[1;33m,\u001b[0m \u001b[1;36m2\u001b[0m\u001b[1;33m)\u001b[0m \u001b[1;33m==\u001b[0m \u001b[1;36m1\u001b[0m\u001b[1;33m:\u001b[0m\u001b[1;33m\u001b[0m\u001b[0m\n",
      "\u001b[1;32m~\\Anaconda3\\lib\\random.py\u001b[0m in \u001b[0;36mrandint\u001b[1;34m(self, a, b)\u001b[0m\n\u001b[0;32m    219\u001b[0m         \"\"\"\n\u001b[0;32m    220\u001b[0m \u001b[1;33m\u001b[0m\u001b[0m\n\u001b[1;32m--> 221\u001b[1;33m         \u001b[1;32mreturn\u001b[0m \u001b[0mself\u001b[0m\u001b[1;33m.\u001b[0m\u001b[0mrandrange\u001b[0m\u001b[1;33m(\u001b[0m\u001b[0ma\u001b[0m\u001b[1;33m,\u001b[0m \u001b[0mb\u001b[0m\u001b[1;33m+\u001b[0m\u001b[1;36m1\u001b[0m\u001b[1;33m)\u001b[0m\u001b[1;33m\u001b[0m\u001b[0m\n\u001b[0m\u001b[0;32m    222\u001b[0m \u001b[1;33m\u001b[0m\u001b[0m\n\u001b[0;32m    223\u001b[0m     def _randbelow(self, n, int=int, maxsize=1<<BPF, type=type,\n",
      "\u001b[1;32m~\\Anaconda3\\lib\\random.py\u001b[0m in \u001b[0;36mrandrange\u001b[1;34m(self, start, stop, step, _int)\u001b[0m\n\u001b[0;32m    197\u001b[0m             \u001b[1;32mreturn\u001b[0m \u001b[0mistart\u001b[0m \u001b[1;33m+\u001b[0m \u001b[0mself\u001b[0m\u001b[1;33m.\u001b[0m\u001b[0m_randbelow\u001b[0m\u001b[1;33m(\u001b[0m\u001b[0mwidth\u001b[0m\u001b[1;33m)\u001b[0m\u001b[1;33m\u001b[0m\u001b[0m\n\u001b[0;32m    198\u001b[0m         \u001b[1;32mif\u001b[0m \u001b[0mstep\u001b[0m \u001b[1;33m==\u001b[0m \u001b[1;36m1\u001b[0m\u001b[1;33m:\u001b[0m\u001b[1;33m\u001b[0m\u001b[0m\n\u001b[1;32m--> 199\u001b[1;33m             \u001b[1;32mraise\u001b[0m \u001b[0mValueError\u001b[0m\u001b[1;33m(\u001b[0m\u001b[1;34m\"empty range for randrange() (%d,%d, %d)\"\u001b[0m \u001b[1;33m%\u001b[0m \u001b[1;33m(\u001b[0m\u001b[0mistart\u001b[0m\u001b[1;33m,\u001b[0m \u001b[0mistop\u001b[0m\u001b[1;33m,\u001b[0m \u001b[0mwidth\u001b[0m\u001b[1;33m)\u001b[0m\u001b[1;33m)\u001b[0m\u001b[1;33m\u001b[0m\u001b[0m\n\u001b[0m\u001b[0;32m    200\u001b[0m \u001b[1;33m\u001b[0m\u001b[0m\n\u001b[0;32m    201\u001b[0m         \u001b[1;31m# Non-unit step argument supplied.\u001b[0m\u001b[1;33m\u001b[0m\u001b[1;33m\u001b[0m\u001b[0m\n",
      "\u001b[1;31mValueError\u001b[0m: empty range for randrange() (20,7, -13)"
     ]
    }
   ],
   "source": [
    "while (1):\n",
    "    count += 1\n",
    "    mList = []\n",
    "\n",
    "    print(f\"gen: {count}\")\n",
    "\n",
    "    if count > stop_at:\n",
    "        final_rec = sorted(nList, key=lambda f: f['fitness'], reverse=True)[0]\n",
    "        break\n",
    "\n",
    "    rec_num = 0\n",
    "    for rec in nList:\n",
    "        # print(\"rec_index: {}\".format(rec_num))\n",
    "        rec_num += 1\n",
    "        if rec['fitness'] == len(data):\n",
    "            print(\"rec_index: {}\".format(rec_num))\n",
    "            final_rec = rec\n",
    "            # print('gen: {}'.format(count))\n",
    "            print('Answer: {}'.format(rec))\n",
    "            flag = True\n",
    "            break\n",
    "\n",
    "    if flag:\n",
    "        break\n",
    "\n",
    "    for j in range(int(m / 2)):\n",
    "        # randomly parent selection(not same)\n",
    "        # t=temp\n",
    "\n",
    "        t = random.sample(range(n), 2)\n",
    "\n",
    "        p1 = nList[t[0]]\n",
    "        p2 = nList[t[1]]\n",
    "\n",
    "        # crossover\n",
    "        crossover_point=int((total_weights+total_biases)/2)\n",
    "        ch1 = list(p1['data'].values())[:crossover_point] + list(p2['data'].values())[crossover_point:]\n",
    "        ch2 = list(p2['data'].values())[:crossover_point] + list(p1['data'].values())[crossover_point:]\n",
    "\n",
    "        # mutation work\n",
    "        for k in [ch1, ch2]:\n",
    "            if random.randint(0, 100) <= mutation_prob:\n",
    "                # get random for mutation in weights\n",
    "                t = random.sample(range(total_weights), 3)\n",
    "                # get random for mutation in bias\n",
    "                print(total_weights,total_biases)\n",
    "                t1 = random.randint(total_weights, total_biases)\n",
    "                # odd,do +ve\n",
    "                if random.randint(1, 2) == 1:\n",
    "                    # mutation in weights\n",
    "                    if (k[t[0]] + mutation) >= wl and (k[t[0]] + mutation) <= wr:\n",
    "                        k[t[0]] += mutation\n",
    "\n",
    "                    if (k[t[1]] + mutation) >= wl and (k[t[1]] + mutation) <= wr:\n",
    "                        k[t[1]] += mutation\n",
    "\n",
    "                    if (k[t[2]] + mutation) >= wl and (k[t[2]] + mutation) <= wr:\n",
    "                        k[t[2]] += mutation\n",
    "\n",
    "                    # mutation in bias\n",
    "                    if (k[t1] + mutation) >= bl and (k[t1] + mutation) <= br:\n",
    "                        k[t1] += mutation\n",
    "\n",
    "                # even,do -ve\n",
    "                else:\n",
    "                    # mutation in weights\n",
    "                    if (k[t[0]] - mutation) >= wl and (k[t[0]] - mutation) <= wr:\n",
    "                        k[t[0]] -= mutation\n",
    "\n",
    "                    if (k[t[1]] - mutation) >= wl and (k[t[1]] - mutation) <= wr:\n",
    "                        k[t[1]] -= mutation\n",
    "\n",
    "                    if (k[t[2]] - mutation) >= wl and (k[t[2]] - mutation) <= wr:\n",
    "                        k[t[2]] -= mutation\n",
    "\n",
    "                    # mutation in bias\n",
    "                    if (k[t1] - mutation) >= bl and (k[t1] - mutation) <= br:\n",
    "                        k[t1] -= mutation\n",
    "\n",
    "                        \n",
    "        ch1 = {'data': {'w15': ch1[0], 'w16': ch1[1], 'w17': ch1[2], 'w25': ch1[3], 'w26': ch1[4], 'w27': ch1[5],\n",
    "                        'w35': ch1[6],\n",
    "                        'w36': ch1[7], 'w37': ch1[8], 'w45': ch1[9], 'w46': ch1[10],\n",
    "                        'w47': ch1[11], 'w58': ch1[12], 'w59': ch1[13], 'w68': ch1[14], 'w69': ch1[15], 'w78': ch1[16],\n",
    "                        'w79': ch1[17],\n",
    "                        'w810': ch1[18], 'w910': ch1[19], 'o5': ch1[20], 'o6': ch1[21],\n",
    "                        'o7': ch1[22], 'o8': ch1[23], 'o9': ch1[24], 'o10': ch1[25]}, 'fitness': 0}\n",
    "\n",
    "        ch2 = {'data': {'w15': ch2[0], 'w16': ch2[1], 'w17': ch2[2], 'w25': ch2[3], 'w26': ch2[4], 'w27': ch2[5],\n",
    "                        'w35': ch2[6],\n",
    "                        'w36': ch2[7], 'w37': ch2[8], 'w45': ch2[9], 'w46': ch2[10],\n",
    "                        'w47': ch2[11], 'w58': ch2[12], 'w59': ch2[13], 'w68': ch2[14], 'w69': ch2[15], 'w78': ch2[16],\n",
    "                        'w79': ch2[17],\n",
    "                        'w810': ch2[18], 'w910': ch2[19], 'o5': ch2[20], 'o6': ch2[21],\n",
    "                        'o7': ch2[22], 'o8': ch2[23], 'o9': ch2[24], 'o10': ch2[25]}, 'fitness': 0}\n",
    "\n",
    "\n",
    "        # calculate fitness of children\n",
    "        for rec in [ch1, ch2]:\n",
    "            for i in data:\n",
    "                fit_func(rec, i)\n",
    "\n",
    "        mList.append(ch1)\n",
    "        mList.append(ch2)\n",
    "\n",
    "    # combine both mList and nList and sort it with respect fit func value,also ovverides the nList,so we used in next iteration\n",
    "\n",
    "    nList = sorted(nList + mList, key=lambda item: item['fitness'], reverse=True)[:25]\n"
   ]
  },
  {
   "cell_type": "code",
   "execution_count": null,
   "metadata": {
    "ExecuteTime": {
     "end_time": "2018-06-19T15:50:34.261876Z",
     "start_time": "2018-06-19T15:50:30.447Z"
    },
    "scrolled": true
   },
   "outputs": [],
   "source": [
    "for i in data:\n",
    "    x1, x2, x3, y = i[0], i[1], i[2], i[3]\n",
    "\n",
    "    out5 = (x1 * rec['data']['w15']) + (x2 * rec['data']['w25']) + (x3 * rec['data']['w35']) + (x4 * rec['data']['w45']) + rec['data']['o5']\n",
    "    out5 = sigmoid(out5)\n",
    "\n",
    "    out6 = (x1 * rec['data']['w16']) + (x2 * rec['data']['w26']) + (x3 * rec['data']['w36']) + (x4 * rec['data']['w46']) + rec['data']['o6']\n",
    "    out6 = sigmoid(out6)\n",
    "    \n",
    "    out7 = (x1 * rec['data']['w17']) + (x2 * rec['data']['w27']) + (x3 * rec['data']['w37']) + (x4 * rec['data']['w47']) + rec['data']['o7']\n",
    "    out7 = sigmoid(out7)\n",
    "\n",
    "    out8 = (out5 * rec['data']['w58']) + (out6 * rec['data']['w68']) + (out7 * rec['data']['w78']) + rec['data']['o8']\n",
    "    out8 = sigmoid(out8)\n",
    "    \n",
    "    out9 = (out5 * rec['data']['w59']) + (out6 * rec['data']['w69']) + (out7 * rec['data']['w79']) + rec['data']['o9']\n",
    "    out9 = sigmoid(out9)\n",
    "\n",
    "    out10 = (out8 * rec['data']['w810']) + (out9 * rec['data']['w910']) + rec['data']['o10']\n",
    "    out10 = sigmoid(out10)\n",
    "\n",
    "    final_ansr.append(out10)"
   ]
  },
  {
   "cell_type": "code",
   "execution_count": null,
   "metadata": {
    "ExecuteTime": {
     "end_time": "2018-06-19T15:50:34.268876Z",
     "start_time": "2018-06-19T15:50:30.450Z"
    },
    "scrolled": true
   },
   "outputs": [],
   "source": [
    "# final_ansr=final_ansr[-len(data):]\n",
    "df['Y-ENN'] = pd.DataFrame(final_ansr)\n",
    "df.to_csv('NN-DATA2.csv', index=False)"
   ]
  },
  {
   "cell_type": "code",
   "execution_count": null,
   "metadata": {
    "ExecuteTime": {
     "end_time": "2018-06-19T15:50:34.271876Z",
     "start_time": "2018-06-19T15:50:30.452Z"
    },
    "scrolled": true
   },
   "outputs": [],
   "source": [
    "from sklearn.metrics import r2_score\n",
    "r2_score(np.array(data)[:,3],df['Y-ENN'])"
   ]
  },
  {
   "cell_type": "code",
   "execution_count": null,
   "metadata": {
    "ExecuteTime": {
     "end_time": "2018-06-19T15:50:34.284877Z",
     "start_time": "2018-06-19T15:50:30.455Z"
    }
   },
   "outputs": [],
   "source": [
    "final_ansr"
   ]
  },
  {
   "cell_type": "code",
   "execution_count": null,
   "metadata": {
    "ExecuteTime": {
     "end_time": "2018-06-19T15:50:34.288875Z",
     "start_time": "2018-06-19T15:50:30.457Z"
    }
   },
   "outputs": [],
   "source": [
    "np.array(data)[:,3]"
   ]
  },
  {
   "cell_type": "code",
   "execution_count": null,
   "metadata": {
    "ExecuteTime": {
     "end_time": "2018-06-19T15:50:34.293877Z",
     "start_time": "2018-06-19T15:50:30.460Z"
    },
    "scrolled": true
   },
   "outputs": [],
   "source": [
    "-11.580005159157485"
   ]
  }
 ],
 "metadata": {
  "kernelspec": {
   "display_name": "Python 3",
   "language": "python",
   "name": "python3"
  },
  "language_info": {
   "codemirror_mode": {
    "name": "ipython",
    "version": 3
   },
   "file_extension": ".py",
   "mimetype": "text/x-python",
   "name": "python",
   "nbconvert_exporter": "python",
   "pygments_lexer": "ipython3",
   "version": "3.6.5"
  },
  "varInspector": {
   "cols": {
    "lenName": 16,
    "lenType": 16,
    "lenVar": 40
   },
   "kernels_config": {
    "python": {
     "delete_cmd_postfix": "",
     "delete_cmd_prefix": "del ",
     "library": "var_list.py",
     "varRefreshCmd": "print(var_dic_list())"
    },
    "r": {
     "delete_cmd_postfix": ") ",
     "delete_cmd_prefix": "rm(",
     "library": "var_list.r",
     "varRefreshCmd": "cat(var_dic_list()) "
    }
   },
   "types_to_exclude": [
    "module",
    "function",
    "builtin_function_or_method",
    "instance",
    "_Feature"
   ],
   "window_display": false
  }
 },
 "nbformat": 4,
 "nbformat_minor": 2
}
