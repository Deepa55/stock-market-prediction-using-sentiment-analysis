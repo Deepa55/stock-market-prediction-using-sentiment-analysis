{
 "cells": [
  {
   "cell_type": "code",
   "execution_count": 298,
   "metadata": {
    "ExecuteTime": {
     "end_time": "2018-06-19T19:10:56.047623Z",
     "start_time": "2018-06-19T19:10:56.042622Z"
    },
    "scrolled": true
   },
   "outputs": [],
   "source": [
    "import pandas as pd\n",
    "import numpy as np\n",
    "import random, math"
   ]
  },
  {
   "cell_type": "code",
   "execution_count": 299,
   "metadata": {
    "ExecuteTime": {
     "end_time": "2018-06-19T19:10:56.149622Z",
     "start_time": "2018-06-19T19:10:56.051624Z"
    },
    "scrolled": true
   },
   "outputs": [],
   "source": [
    "random.seed(786)\n",
    "np.random.seed(786)"
   ]
  },
  {
   "cell_type": "code",
   "execution_count": 300,
   "metadata": {
    "ExecuteTime": {
     "end_time": "2018-06-19T19:10:56.277624Z",
     "start_time": "2018-06-19T19:10:56.154621Z"
    },
    "scrolled": true
   },
   "outputs": [],
   "source": [
    "df = pd.read_csv('final_data.csv')\n",
    "# df1 = df[['compound','neg','neu','pos','Close']]\n",
    "df1 = df[['compound','neg','neu','pos']]\n",
    "df2=df[['Close']]\n",
    "# df = df[['neg','neu','pos','Close']]"
   ]
  },
  {
   "cell_type": "code",
   "execution_count": 301,
   "metadata": {
    "ExecuteTime": {
     "end_time": "2018-06-19T19:10:56.342665Z",
     "start_time": "2018-06-19T19:10:56.280634Z"
    }
   },
   "outputs": [],
   "source": [
    "from sklearn import preprocessing\n",
    "min_max_scalar=preprocessing.MinMaxScaler()\n",
    "data=min_max_scalar.fit_transform(df1)\n",
    "# X_test=min_max_scalar.fit_transform(X_test)\n",
    "# Y_train=min_max_scalar.fit_transform(Y_train)\n",
    "# Y_test=min_max_scalar.fit_transform(Y_test)"
   ]
  },
  {
   "cell_type": "code",
   "execution_count": 302,
   "metadata": {
    "ExecuteTime": {
     "end_time": "2018-06-19T19:10:56.434123Z",
     "start_time": "2018-06-19T19:10:56.345668Z"
    }
   },
   "outputs": [],
   "source": [
    "df1=pd.DataFrame(data)"
   ]
  },
  {
   "cell_type": "code",
   "execution_count": 303,
   "metadata": {
    "ExecuteTime": {
     "end_time": "2018-06-19T19:10:56.543492Z",
     "start_time": "2018-06-19T19:10:56.438125Z"
    }
   },
   "outputs": [
    {
     "data": {
      "text/html": [
       "<div>\n",
       "<style scoped>\n",
       "    .dataframe tbody tr th:only-of-type {\n",
       "        vertical-align: middle;\n",
       "    }\n",
       "\n",
       "    .dataframe tbody tr th {\n",
       "        vertical-align: top;\n",
       "    }\n",
       "\n",
       "    .dataframe thead th {\n",
       "        text-align: right;\n",
       "    }\n",
       "</style>\n",
       "<table border=\"1\" class=\"dataframe\">\n",
       "  <thead>\n",
       "    <tr style=\"text-align: right;\">\n",
       "      <th></th>\n",
       "      <th>0</th>\n",
       "      <th>1</th>\n",
       "      <th>2</th>\n",
       "      <th>3</th>\n",
       "    </tr>\n",
       "  </thead>\n",
       "  <tbody>\n",
       "    <tr>\n",
       "      <th>0</th>\n",
       "      <td>0.053189</td>\n",
       "      <td>0.494253</td>\n",
       "      <td>0.800429</td>\n",
       "      <td>0.341667</td>\n",
       "    </tr>\n",
       "    <tr>\n",
       "      <th>1</th>\n",
       "      <td>0.150989</td>\n",
       "      <td>0.382184</td>\n",
       "      <td>0.864807</td>\n",
       "      <td>0.250000</td>\n",
       "    </tr>\n",
       "    <tr>\n",
       "      <th>2</th>\n",
       "      <td>0.027553</td>\n",
       "      <td>0.916667</td>\n",
       "      <td>0.684549</td>\n",
       "      <td>0.183333</td>\n",
       "    </tr>\n",
       "    <tr>\n",
       "      <th>3</th>\n",
       "      <td>0.105067</td>\n",
       "      <td>0.514368</td>\n",
       "      <td>0.778970</td>\n",
       "      <td>0.391667</td>\n",
       "    </tr>\n",
       "    <tr>\n",
       "      <th>4</th>\n",
       "      <td>0.208367</td>\n",
       "      <td>0.402299</td>\n",
       "      <td>0.821888</td>\n",
       "      <td>0.391667</td>\n",
       "    </tr>\n",
       "  </tbody>\n",
       "</table>\n",
       "</div>"
      ],
      "text/plain": [
       "          0         1         2         3\n",
       "0  0.053189  0.494253  0.800429  0.341667\n",
       "1  0.150989  0.382184  0.864807  0.250000\n",
       "2  0.027553  0.916667  0.684549  0.183333\n",
       "3  0.105067  0.514368  0.778970  0.391667\n",
       "4  0.208367  0.402299  0.821888  0.391667"
      ]
     },
     "execution_count": 303,
     "metadata": {},
     "output_type": "execute_result"
    }
   ],
   "source": [
    "df1.head()"
   ]
  },
  {
   "cell_type": "code",
   "execution_count": 304,
   "metadata": {
    "ExecuteTime": {
     "end_time": "2018-06-19T19:10:56.637492Z",
     "start_time": "2018-06-19T19:10:56.547492Z"
    }
   },
   "outputs": [],
   "source": [
    "close_max=df2.max()\n",
    "df2/=close_max\n",
    "# df2=np.array(df2)"
   ]
  },
  {
   "cell_type": "code",
   "execution_count": 305,
   "metadata": {
    "ExecuteTime": {
     "end_time": "2018-06-19T19:10:56.750542Z",
     "start_time": "2018-06-19T19:10:56.641495Z"
    }
   },
   "outputs": [
    {
     "data": {
      "text/html": [
       "<div>\n",
       "<style scoped>\n",
       "    .dataframe tbody tr th:only-of-type {\n",
       "        vertical-align: middle;\n",
       "    }\n",
       "\n",
       "    .dataframe tbody tr th {\n",
       "        vertical-align: top;\n",
       "    }\n",
       "\n",
       "    .dataframe thead th {\n",
       "        text-align: right;\n",
       "    }\n",
       "</style>\n",
       "<table border=\"1\" class=\"dataframe\">\n",
       "  <thead>\n",
       "    <tr style=\"text-align: right;\">\n",
       "      <th></th>\n",
       "      <th>Close</th>\n",
       "    </tr>\n",
       "  </thead>\n",
       "  <tbody>\n",
       "    <tr>\n",
       "      <th>0</th>\n",
       "      <td>0.387238</td>\n",
       "    </tr>\n",
       "    <tr>\n",
       "      <th>1</th>\n",
       "      <td>0.394951</td>\n",
       "    </tr>\n",
       "    <tr>\n",
       "      <th>2</th>\n",
       "      <td>0.404868</td>\n",
       "    </tr>\n",
       "    <tr>\n",
       "      <th>3</th>\n",
       "      <td>0.405030</td>\n",
       "    </tr>\n",
       "    <tr>\n",
       "      <th>4</th>\n",
       "      <td>0.405062</td>\n",
       "    </tr>\n",
       "  </tbody>\n",
       "</table>\n",
       "</div>"
      ],
      "text/plain": [
       "      Close\n",
       "0  0.387238\n",
       "1  0.394951\n",
       "2  0.404868\n",
       "3  0.405030\n",
       "4  0.405062"
      ]
     },
     "execution_count": 305,
     "metadata": {},
     "output_type": "execute_result"
    }
   ],
   "source": [
    "df2.head()"
   ]
  },
  {
   "cell_type": "code",
   "execution_count": 306,
   "metadata": {
    "ExecuteTime": {
     "end_time": "2018-06-19T19:10:56.838544Z",
     "start_time": "2018-06-19T19:10:56.754541Z"
    }
   },
   "outputs": [],
   "source": [
    "df1['4']=df2"
   ]
  },
  {
   "cell_type": "code",
   "execution_count": 307,
   "metadata": {
    "ExecuteTime": {
     "end_time": "2018-06-19T19:10:56.984537Z",
     "start_time": "2018-06-19T19:10:56.842542Z"
    }
   },
   "outputs": [
    {
     "data": {
      "text/html": [
       "<div>\n",
       "<style scoped>\n",
       "    .dataframe tbody tr th:only-of-type {\n",
       "        vertical-align: middle;\n",
       "    }\n",
       "\n",
       "    .dataframe tbody tr th {\n",
       "        vertical-align: top;\n",
       "    }\n",
       "\n",
       "    .dataframe thead th {\n",
       "        text-align: right;\n",
       "    }\n",
       "</style>\n",
       "<table border=\"1\" class=\"dataframe\">\n",
       "  <thead>\n",
       "    <tr style=\"text-align: right;\">\n",
       "      <th></th>\n",
       "      <th>0</th>\n",
       "      <th>1</th>\n",
       "      <th>2</th>\n",
       "      <th>3</th>\n",
       "      <th>4</th>\n",
       "    </tr>\n",
       "  </thead>\n",
       "  <tbody>\n",
       "    <tr>\n",
       "      <th>0</th>\n",
       "      <td>0.053189</td>\n",
       "      <td>0.494253</td>\n",
       "      <td>0.800429</td>\n",
       "      <td>0.341667</td>\n",
       "      <td>0.387238</td>\n",
       "    </tr>\n",
       "    <tr>\n",
       "      <th>1</th>\n",
       "      <td>0.150989</td>\n",
       "      <td>0.382184</td>\n",
       "      <td>0.864807</td>\n",
       "      <td>0.250000</td>\n",
       "      <td>0.394951</td>\n",
       "    </tr>\n",
       "    <tr>\n",
       "      <th>2</th>\n",
       "      <td>0.027553</td>\n",
       "      <td>0.916667</td>\n",
       "      <td>0.684549</td>\n",
       "      <td>0.183333</td>\n",
       "      <td>0.404868</td>\n",
       "    </tr>\n",
       "    <tr>\n",
       "      <th>3</th>\n",
       "      <td>0.105067</td>\n",
       "      <td>0.514368</td>\n",
       "      <td>0.778970</td>\n",
       "      <td>0.391667</td>\n",
       "      <td>0.405030</td>\n",
       "    </tr>\n",
       "    <tr>\n",
       "      <th>4</th>\n",
       "      <td>0.208367</td>\n",
       "      <td>0.402299</td>\n",
       "      <td>0.821888</td>\n",
       "      <td>0.391667</td>\n",
       "      <td>0.405062</td>\n",
       "    </tr>\n",
       "  </tbody>\n",
       "</table>\n",
       "</div>"
      ],
      "text/plain": [
       "          0         1         2         3         4\n",
       "0  0.053189  0.494253  0.800429  0.341667  0.387238\n",
       "1  0.150989  0.382184  0.864807  0.250000  0.394951\n",
       "2  0.027553  0.916667  0.684549  0.183333  0.404868\n",
       "3  0.105067  0.514368  0.778970  0.391667  0.405030\n",
       "4  0.208367  0.402299  0.821888  0.391667  0.405062"
      ]
     },
     "execution_count": 307,
     "metadata": {},
     "output_type": "execute_result"
    }
   ],
   "source": [
    "df1.head()"
   ]
  },
  {
   "cell_type": "code",
   "execution_count": 308,
   "metadata": {
    "ExecuteTime": {
     "end_time": "2018-06-19T19:10:57.079540Z",
     "start_time": "2018-06-19T19:10:56.988538Z"
    },
    "scrolled": true
   },
   "outputs": [],
   "source": [
    "# df['Close']=df['Close']/400"
   ]
  },
  {
   "cell_type": "code",
   "execution_count": 309,
   "metadata": {
    "ExecuteTime": {
     "end_time": "2018-06-19T19:10:57.218586Z",
     "start_time": "2018-06-19T19:10:57.084539Z"
    }
   },
   "outputs": [],
   "source": [
    "data = df1.values.tolist()"
   ]
  },
  {
   "cell_type": "code",
   "execution_count": 310,
   "metadata": {
    "ExecuteTime": {
     "end_time": "2018-06-19T19:10:57.319635Z",
     "start_time": "2018-06-19T19:10:57.221589Z"
    }
   },
   "outputs": [
    {
     "data": {
      "text/plain": [
       "[[0.05318934194590236,\n",
       "  0.4942528735632184,\n",
       "  0.8004291845493562,\n",
       "  0.3416666666666667,\n",
       "  0.3872379038791846],\n",
       " [0.1509890997174001,\n",
       "  0.38218390804597707,\n",
       "  0.8648068669527895,\n",
       "  0.25,\n",
       "  0.39495090255047477]]"
      ]
     },
     "execution_count": 310,
     "metadata": {},
     "output_type": "execute_result"
    }
   ],
   "source": [
    "data[:2]"
   ]
  },
  {
   "cell_type": "code",
   "execution_count": 311,
   "metadata": {
    "ExecuteTime": {
     "end_time": "2018-06-19T19:10:57.409631Z",
     "start_time": "2018-06-19T19:10:57.322637Z"
    },
    "scrolled": true
   },
   "outputs": [],
   "source": [
    "# data = data.tolist()"
   ]
  },
  {
   "cell_type": "code",
   "execution_count": 312,
   "metadata": {
    "ExecuteTime": {
     "end_time": "2018-06-19T19:10:57.549105Z",
     "start_time": "2018-06-19T19:10:57.414634Z"
    },
    "scrolled": true
   },
   "outputs": [],
   "source": [
    "inner_threshold = 0.005;\n",
    "rate_var = 0;\n",
    "\n",
    "final_ansr = []"
   ]
  },
  {
   "cell_type": "code",
   "execution_count": 313,
   "metadata": {
    "ExecuteTime": {
     "end_time": "2018-06-19T19:10:57.642112Z",
     "start_time": "2018-06-19T19:10:57.553108Z"
    },
    "scrolled": true
   },
   "outputs": [],
   "source": [
    "sigmoid=lambda x:1/(1+math.e**(-x))"
   ]
  },
  {
   "cell_type": "code",
   "execution_count": 314,
   "metadata": {
    "ExecuteTime": {
     "end_time": "2018-06-19T19:10:57.725667Z",
     "start_time": "2018-06-19T19:10:57.646112Z"
    },
    "scrolled": true
   },
   "outputs": [],
   "source": [
    "def fit_func(rec, i):\n",
    "    x1, x2, x3, x4, y = i[0], i[1], i[2], i[3], i[4]\n",
    "\n",
    "    out5 = (x1 * rec['data']['w15']) + (x2 * rec['data']['w25']) + (x3 * rec['data']['w35']) + (x4 * rec['data']['w45']) + rec['data']['o5']\n",
    "    out5 = sigmoid(out5)\n",
    "\n",
    "    out6 = (x1 * rec['data']['w16']) + (x2 * rec['data']['w26']) + (x3 * rec['data']['w36']) + (x4 * rec['data']['w46']) + rec['data']['o6']\n",
    "    out6 = sigmoid(out6)\n",
    "    \n",
    "    out7 = (x1 * rec['data']['w17']) + (x2 * rec['data']['w27']) + (x3 * rec['data']['w37']) + (x4 * rec['data']['w47']) + rec['data']['o7']\n",
    "    out7 = sigmoid(out7)\n",
    "\n",
    "    out8 = (out5 * rec['data']['w58']) + (out6 * rec['data']['w68']) + (out7 * rec['data']['w78']) + rec['data']['o8']\n",
    "    out8 = sigmoid(out8)\n",
    "    \n",
    "    out9 = (out5 * rec['data']['w59']) + (out6 * rec['data']['w69']) + (out7 * rec['data']['w79']) + rec['data']['o9']\n",
    "    out9 = sigmoid(out9)\n",
    "\n",
    "    out10 = (out8 * rec['data']['w810']) + (out9 * rec['data']['w910']) + rec['data']['o10']\n",
    "    out10 = sigmoid(out10)\n",
    "\n",
    "    err10 = out10 * (1 - out10) * (y - out10)\n",
    "\n",
    "    if abs(err10) <= inner_threshold:\n",
    "        # final_ansr.append(out6 * 20000)\n",
    "        rec['fitness'] += 1\n"
   ]
  },
  {
   "cell_type": "code",
   "execution_count": 315,
   "metadata": {
    "ExecuteTime": {
     "end_time": "2018-06-19T19:10:57.817690Z",
     "start_time": "2018-06-19T19:10:57.728675Z"
    },
    "scrolled": true
   },
   "outputs": [],
   "source": [
    "nList = [];\n",
    "m = 20;\n",
    "n = 25;\n",
    "mutation_prob = 75;\n",
    "mutation = 0.5;"
   ]
  },
  {
   "cell_type": "code",
   "execution_count": 316,
   "metadata": {
    "ExecuteTime": {
     "end_time": "2018-06-19T19:10:57.941688Z",
     "start_time": "2018-06-19T19:10:57.825688Z"
    },
    "scrolled": true
   },
   "outputs": [],
   "source": [
    "# ranges for weights & biases\n",
    "wl = -2;\n",
    "wr = 2;\n",
    "bl = -1;\n",
    "br = 1"
   ]
  },
  {
   "cell_type": "code",
   "execution_count": 317,
   "metadata": {
    "ExecuteTime": {
     "end_time": "2018-06-19T19:10:58.074683Z",
     "start_time": "2018-06-19T19:10:57.950685Z"
    }
   },
   "outputs": [],
   "source": [
    "total_weights=20\n",
    "total_biases=6"
   ]
  },
  {
   "cell_type": "code",
   "execution_count": 318,
   "metadata": {
    "ExecuteTime": {
     "end_time": "2018-06-19T19:10:58.189682Z",
     "start_time": "2018-06-19T19:10:58.079687Z"
    },
    "scrolled": true
   },
   "outputs": [],
   "source": [
    "for i in range(n):\n",
    "    # floating random weights\n",
    "    w15, w16, w17, w25, w26,w27, w35, w36,w37, w45, w46,w47, w58,w59,w68,w69,w78,w79, w810, w910 = np.random.uniform(wl, wr, total_weights)\n",
    "    # floating random biases\n",
    "    o5, o6, o7,o8, o9, o10 = np.random.uniform(bl, br, total_biases)\n",
    "\n",
    "    nList.append({'data': {'w15': w15, 'w16': w16, 'w17': w17, 'w25': w25, 'w26': w26, 'w27': w27,\n",
    "                           'w35': w35,'w36': w36, 'w37': w37, 'w45': w45, 'w46': w46,\n",
    "                           'w47': w47, 'w58': w58, 'w59': w59, 'w68': w68, 'w69': w69, 'w78': w78,\n",
    "                           'w79': w79,'w810': w810,'w910': w910, 'o5': o5, 'o6': o6, 'o7': o7,\n",
    "                           'o8': o8, 'o9': o9, 'o10': o10},\n",
    "                           'fitness': 0})"
   ]
  },
  {
   "cell_type": "code",
   "execution_count": 319,
   "metadata": {
    "ExecuteTime": {
     "end_time": "2018-06-19T19:10:59.325696Z",
     "start_time": "2018-06-19T19:10:58.196682Z"
    },
    "scrolled": true
   },
   "outputs": [
    {
     "name": "stdout",
     "output_type": "stream",
     "text": [
      "188\n",
      "242\n",
      "0\n",
      "153\n",
      "73\n",
      "97\n",
      "382\n",
      "71\n",
      "57\n",
      "8\n",
      "254\n",
      "383\n",
      "48\n",
      "176\n",
      "248\n",
      "247\n",
      "149\n",
      "144\n",
      "181\n",
      "169\n",
      "46\n",
      "8\n",
      "81\n",
      "93\n",
      "0\n"
     ]
    }
   ],
   "source": [
    "# fitness calculation for first time/initial population\n",
    "for rec in nList:\n",
    "    for i in data:\n",
    "        fit_func(rec, i)\n",
    "        \n",
    "    print(rec['fitness'])"
   ]
  },
  {
   "cell_type": "code",
   "execution_count": 320,
   "metadata": {
    "ExecuteTime": {
     "end_time": "2018-06-19T19:10:59.337693Z",
     "start_time": "2018-06-19T19:10:59.331697Z"
    },
    "scrolled": true
   },
   "outputs": [],
   "source": [
    "count = 0;\n",
    "final_rec = 0\n",
    "flag = False\n",
    "stop_at=50"
   ]
  },
  {
   "cell_type": "code",
   "execution_count": 321,
   "metadata": {
    "ExecuteTime": {
     "end_time": "2018-06-19T19:11:38.012258Z",
     "start_time": "2018-06-19T19:10:59.344694Z"
    },
    "code_folding": [],
    "scrolled": true
   },
   "outputs": [
    {
     "name": "stdout",
     "output_type": "stream",
     "text": [
      "gen: 1\n",
      "gen: 2\n",
      "gen: 3\n",
      "gen: 4\n",
      "gen: 5\n",
      "gen: 6\n",
      "gen: 7\n",
      "gen: 8\n",
      "gen: 9\n",
      "gen: 10\n",
      "gen: 11\n",
      "gen: 12\n",
      "gen: 13\n",
      "gen: 14\n",
      "gen: 15\n",
      "gen: 16\n",
      "gen: 17\n",
      "gen: 18\n",
      "gen: 19\n",
      "gen: 20\n",
      "gen: 21\n",
      "gen: 22\n",
      "gen: 23\n",
      "gen: 24\n",
      "gen: 25\n",
      "gen: 26\n",
      "gen: 27\n",
      "gen: 28\n",
      "gen: 29\n",
      "gen: 30\n",
      "gen: 31\n",
      "gen: 32\n",
      "gen: 33\n",
      "gen: 34\n",
      "gen: 35\n",
      "gen: 36\n",
      "gen: 37\n",
      "gen: 38\n",
      "gen: 39\n",
      "gen: 40\n",
      "gen: 41\n",
      "gen: 42\n",
      "gen: 43\n",
      "gen: 44\n",
      "gen: 45\n",
      "gen: 46\n",
      "gen: 47\n",
      "gen: 48\n",
      "gen: 49\n",
      "gen: 50\n",
      "gen: 51\n"
     ]
    }
   ],
   "source": [
    "while (1):\n",
    "    count += 1\n",
    "    mList = []\n",
    "\n",
    "    print(f\"gen: {count}\")\n",
    "\n",
    "    if count > stop_at:\n",
    "        final_rec = sorted(nList, key=lambda f: f['fitness'], reverse=True)[0]\n",
    "        break\n",
    "\n",
    "    rec_num = 0\n",
    "    for rec in nList:\n",
    "        # print(\"rec_index: {}\".format(rec_num))\n",
    "        rec_num += 1\n",
    "        if rec['fitness'] == len(data):\n",
    "            print(\"rec_index: {}\".format(rec_num))\n",
    "            final_rec = rec\n",
    "            # print('gen: {}'.format(count))\n",
    "            print('Answer: {}'.format(rec))\n",
    "            flag = True\n",
    "            break\n",
    "\n",
    "    if flag:\n",
    "        break\n",
    "\n",
    "    for j in range(int(m / 2)):\n",
    "        # randomly parent selection(not same)\n",
    "        # t=temp\n",
    "\n",
    "        t = random.sample(range(n), 2)\n",
    "\n",
    "        p1 = nList[t[0]]\n",
    "        p2 = nList[t[1]]\n",
    "\n",
    "        # crossover\n",
    "        crossover_point=int((total_weights+total_biases)/2)\n",
    "        ch1 = list(p1['data'].values())[:crossover_point] + list(p2['data'].values())[crossover_point:]\n",
    "        ch2 = list(p2['data'].values())[:crossover_point] + list(p1['data'].values())[crossover_point:]\n",
    "\n",
    "        # mutation work\n",
    "        for k in [ch1, ch2]:\n",
    "            if random.randint(0, 100) <= mutation_prob:\n",
    "                # get random for mutation in weights\n",
    "                t = random.sample(range(total_weights), 3)\n",
    "                # get random for mutation in bias\n",
    "                t1 = random.randint(total_weights, (total_weights+total_biases)-1)\n",
    "                # odd,do +ve\n",
    "                if random.randint(1, 2) == 1:\n",
    "                    # mutation in weights\n",
    "                    if (k[t[0]] + mutation) >= wl and (k[t[0]] + mutation) <= wr:\n",
    "                        k[t[0]] += mutation\n",
    "\n",
    "                    if (k[t[1]] + mutation) >= wl and (k[t[1]] + mutation) <= wr:\n",
    "                        k[t[1]] += mutation\n",
    "\n",
    "                    if (k[t[2]] + mutation) >= wl and (k[t[2]] + mutation) <= wr:\n",
    "                        k[t[2]] += mutation\n",
    "\n",
    "                    # mutation in bias\n",
    "                    if (k[t1] + mutation) >= bl and (k[t1] + mutation) <= br:\n",
    "                        k[t1] += mutation\n",
    "\n",
    "                # even,do -ve\n",
    "                else:\n",
    "                    # mutation in weights\n",
    "                    if (k[t[0]] - mutation) >= wl and (k[t[0]] - mutation) <= wr:\n",
    "                        k[t[0]] -= mutation\n",
    "\n",
    "                    if (k[t[1]] - mutation) >= wl and (k[t[1]] - mutation) <= wr:\n",
    "                        k[t[1]] -= mutation\n",
    "\n",
    "                    if (k[t[2]] - mutation) >= wl and (k[t[2]] - mutation) <= wr:\n",
    "                        k[t[2]] -= mutation\n",
    "\n",
    "                    # mutation in bias\n",
    "                    if (k[t1] - mutation) >= bl and (k[t1] - mutation) <= br:\n",
    "                        k[t1] -= mutation\n",
    "\n",
    "                        \n",
    "        ch1 = {'data': {'w15': ch1[0], 'w16': ch1[1], 'w17': ch1[2], 'w25': ch1[3], 'w26': ch1[4], 'w27': ch1[5],\n",
    "                        'w35': ch1[6],\n",
    "                        'w36': ch1[7], 'w37': ch1[8], 'w45': ch1[9], 'w46': ch1[10],\n",
    "                        'w47': ch1[11], 'w58': ch1[12], 'w59': ch1[13], 'w68': ch1[14], 'w69': ch1[15], 'w78': ch1[16],\n",
    "                        'w79': ch1[17],\n",
    "                        'w810': ch1[18], 'w910': ch1[19], 'o5': ch1[20], 'o6': ch1[21],\n",
    "                        'o7': ch1[22], 'o8': ch1[23], 'o9': ch1[24], 'o10': ch1[25]}, 'fitness': 0}\n",
    "\n",
    "        ch2 = {'data': {'w15': ch2[0], 'w16': ch2[1], 'w17': ch2[2], 'w25': ch2[3], 'w26': ch2[4], 'w27': ch2[5],\n",
    "                        'w35': ch2[6],\n",
    "                        'w36': ch2[7], 'w37': ch2[8], 'w45': ch2[9], 'w46': ch2[10],\n",
    "                        'w47': ch2[11], 'w58': ch2[12], 'w59': ch2[13], 'w68': ch2[14], 'w69': ch2[15], 'w78': ch2[16],\n",
    "                        'w79': ch2[17],\n",
    "                        'w810': ch2[18], 'w910': ch2[19], 'o5': ch2[20], 'o6': ch2[21],\n",
    "                        'o7': ch2[22], 'o8': ch2[23], 'o9': ch2[24], 'o10': ch2[25]}, 'fitness': 0}\n",
    "\n",
    "\n",
    "        # calculate fitness of children\n",
    "        for rec in [ch1, ch2]:\n",
    "            for i in data:\n",
    "                fit_func(rec, i)\n",
    "\n",
    "        mList.append(ch1)\n",
    "        mList.append(ch2)\n",
    "\n",
    "    # combine both mList and nList and sort it with respect fit func value,also ovverides the nList,so we used in next iteration\n",
    "\n",
    "    nList = sorted(nList + mList, key=lambda item: item['fitness'], reverse=True)[:25]\n"
   ]
  },
  {
   "cell_type": "code",
   "execution_count": 322,
   "metadata": {
    "ExecuteTime": {
     "end_time": "2018-06-19T19:11:38.392252Z",
     "start_time": "2018-06-19T19:11:38.016253Z"
    },
    "scrolled": true
   },
   "outputs": [],
   "source": [
    "for i in data:\n",
    "    x1, x2, x3, x4, y = i[0], i[1], i[2], i[3], i[4]\n",
    "\n",
    "    out5 = (x1 * rec['data']['w15']) + (x2 * rec['data']['w25']) + (x3 * rec['data']['w35']) + (x4 * rec['data']['w45']) + rec['data']['o5']\n",
    "    out5 = sigmoid(out5)\n",
    "\n",
    "    out6 = (x1 * rec['data']['w16']) + (x2 * rec['data']['w26']) + (x3 * rec['data']['w36']) + (x4 * rec['data']['w46']) + rec['data']['o6']\n",
    "    out6 = sigmoid(out6)\n",
    "    \n",
    "    out7 = (x1 * rec['data']['w17']) + (x2 * rec['data']['w27']) + (x3 * rec['data']['w37']) + (x4 * rec['data']['w47']) + rec['data']['o7']\n",
    "    out7 = sigmoid(out7)\n",
    "\n",
    "    out8 = (out5 * rec['data']['w58']) + (out6 * rec['data']['w68']) + (out7 * rec['data']['w78']) + rec['data']['o8']\n",
    "    out8 = sigmoid(out8)\n",
    "    \n",
    "    out9 = (out5 * rec['data']['w59']) + (out6 * rec['data']['w69']) + (out7 * rec['data']['w79']) + rec['data']['o9']\n",
    "    out9 = sigmoid(out9)\n",
    "\n",
    "    out10 = (out8 * rec['data']['w810']) + (out9 * rec['data']['w910']) + rec['data']['o10']\n",
    "    out10 = sigmoid(out10)\n",
    "\n",
    "    final_ansr.append(out10*close_max)"
   ]
  },
  {
   "cell_type": "code",
   "execution_count": 323,
   "metadata": {
    "ExecuteTime": {
     "end_time": "2018-06-19T19:11:38.545251Z",
     "start_time": "2018-06-19T19:11:38.396250Z"
    },
    "scrolled": true
   },
   "outputs": [],
   "source": [
    "# final_ansr=final_ansr[-len(data):]\n",
    "df['Y-ENN'] = pd.DataFrame(final_ansr)\n",
    "df.to_csv('NN-DATA2.csv', index=False)"
   ]
  },
  {
   "cell_type": "code",
   "execution_count": 324,
   "metadata": {
    "ExecuteTime": {
     "end_time": "2018-06-19T19:11:38.561250Z",
     "start_time": "2018-06-19T19:11:38.548251Z"
    },
    "scrolled": true
   },
   "outputs": [
    {
     "data": {
      "text/plain": [
       "-0.8684247040915436"
      ]
     },
     "execution_count": 324,
     "metadata": {},
     "output_type": "execute_result"
    }
   ],
   "source": [
    "from sklearn.metrics import r2_score\n",
    "r2_score(df[['Close']],df['Y-ENN'])"
   ]
  },
  {
   "cell_type": "code",
   "execution_count": 325,
   "metadata": {
    "ExecuteTime": {
     "end_time": "2018-06-19T19:11:38.659246Z",
     "start_time": "2018-06-19T19:11:38.565250Z"
    }
   },
   "outputs": [
    {
     "data": {
      "text/html": [
       "<div>\n",
       "<style scoped>\n",
       "    .dataframe tbody tr th:only-of-type {\n",
       "        vertical-align: middle;\n",
       "    }\n",
       "\n",
       "    .dataframe tbody tr th {\n",
       "        vertical-align: top;\n",
       "    }\n",
       "\n",
       "    .dataframe thead th {\n",
       "        text-align: right;\n",
       "    }\n",
       "</style>\n",
       "<table border=\"1\" class=\"dataframe\">\n",
       "  <thead>\n",
       "    <tr style=\"text-align: right;\">\n",
       "      <th></th>\n",
       "      <th>Close</th>\n",
       "    </tr>\n",
       "  </thead>\n",
       "  <tbody>\n",
       "    <tr>\n",
       "      <th>0</th>\n",
       "      <td>119.49</td>\n",
       "    </tr>\n",
       "    <tr>\n",
       "      <th>1</th>\n",
       "      <td>121.87</td>\n",
       "    </tr>\n",
       "    <tr>\n",
       "      <th>2</th>\n",
       "      <td>124.93</td>\n",
       "    </tr>\n",
       "    <tr>\n",
       "      <th>3</th>\n",
       "      <td>124.98</td>\n",
       "    </tr>\n",
       "    <tr>\n",
       "      <th>4</th>\n",
       "      <td>124.99</td>\n",
       "    </tr>\n",
       "  </tbody>\n",
       "</table>\n",
       "</div>"
      ],
      "text/plain": [
       "    Close\n",
       "0  119.49\n",
       "1  121.87\n",
       "2  124.93\n",
       "3  124.98\n",
       "4  124.99"
      ]
     },
     "execution_count": 325,
     "metadata": {},
     "output_type": "execute_result"
    }
   ],
   "source": [
    "df[['Close']].head()"
   ]
  },
  {
   "cell_type": "code",
   "execution_count": 326,
   "metadata": {
    "ExecuteTime": {
     "end_time": "2018-06-19T19:11:38.748244Z",
     "start_time": "2018-06-19T19:11:38.662248Z"
    }
   },
   "outputs": [
    {
     "data": {
      "text/plain": [
       "0    125.122705\n",
       "1    125.165799\n",
       "2    125.113312\n",
       "3    125.115474\n",
       "4    125.136513\n",
       "Name: Y-ENN, dtype: float64"
      ]
     },
     "execution_count": 326,
     "metadata": {},
     "output_type": "execute_result"
    }
   ],
   "source": [
    "df['Y-ENN'].head()"
   ]
  },
  {
   "cell_type": "code",
   "execution_count": 327,
   "metadata": {
    "ExecuteTime": {
     "end_time": "2018-06-19T19:11:38.840272Z",
     "start_time": "2018-06-19T19:11:38.752246Z"
    }
   },
   "outputs": [
    {
     "ename": "SyntaxError",
     "evalue": "invalid syntax (<ipython-input-327-3e53db0691e5>, line 1)",
     "output_type": "error",
     "traceback": [
      "\u001b[1;36m  File \u001b[1;32m\"<ipython-input-327-3e53db0691e5>\"\u001b[1;36m, line \u001b[1;32m1\u001b[0m\n\u001b[1;33m    0    140.936089\u001b[0m\n\u001b[1;37m                  ^\u001b[0m\n\u001b[1;31mSyntaxError\u001b[0m\u001b[1;31m:\u001b[0m invalid syntax\n"
     ]
    }
   ],
   "source": [
    "0    140.936089\n",
    "1    140.920043\n",
    "2    140.903992\n",
    "3    140.966967\n",
    "4    140.986424\n",
    "Name: Y-ENN, dtype: float64"
   ]
  }
 ],
 "metadata": {
  "kernelspec": {
   "display_name": "Python 3",
   "language": "python",
   "name": "python3"
  },
  "language_info": {
   "codemirror_mode": {
    "name": "ipython",
    "version": 3
   },
   "file_extension": ".py",
   "mimetype": "text/x-python",
   "name": "python",
   "nbconvert_exporter": "python",
   "pygments_lexer": "ipython3",
   "version": "3.6.5"
  },
  "varInspector": {
   "cols": {
    "lenName": 16,
    "lenType": 16,
    "lenVar": 40
   },
   "kernels_config": {
    "python": {
     "delete_cmd_postfix": "",
     "delete_cmd_prefix": "del ",
     "library": "var_list.py",
     "varRefreshCmd": "print(var_dic_list())"
    },
    "r": {
     "delete_cmd_postfix": ") ",
     "delete_cmd_prefix": "rm(",
     "library": "var_list.r",
     "varRefreshCmd": "cat(var_dic_list()) "
    }
   },
   "types_to_exclude": [
    "module",
    "function",
    "builtin_function_or_method",
    "instance",
    "_Feature"
   ],
   "window_display": false
  }
 },
 "nbformat": 4,
 "nbformat_minor": 2
}
